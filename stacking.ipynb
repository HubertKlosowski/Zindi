{
 "cells": [
  {
   "cell_type": "code",
   "execution_count": null,
   "id": "initial_id",
   "metadata": {
    "collapsed": true
   },
   "outputs": [],
   "source": [
    "import numpy as np\n",
    "from sklearn.linear_model import LinearRegression\n",
    "\n",
    "\n",
    "X_predict = np.column_stack((lgb_pred, xgb_pred, rf_pred))\n",
    "meta_model = LinearRegression()\n",
    "meta_model.fit(X_predict, y_test)\n",
    "lgbm_final, xgbm_final, rf_final = lgb_model.predict(test), xgb_model.predict(test), rf_model.predict(test)\n",
    "X_final_test = np.column_stack((lgbm_final, xgbm_final, rf_final))"
   ]
  }
 ],
 "metadata": {
  "kernelspec": {
   "display_name": "Python 3",
   "language": "python",
   "name": "python3"
  },
  "language_info": {
   "codemirror_mode": {
    "name": "ipython",
    "version": 2
   },
   "file_extension": ".py",
   "mimetype": "text/x-python",
   "name": "python",
   "nbconvert_exporter": "python",
   "pygments_lexer": "ipython2",
   "version": "2.7.6"
  }
 },
 "nbformat": 4,
 "nbformat_minor": 5
}
