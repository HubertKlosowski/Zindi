{
 "cells": [
  {
   "cell_type": "code",
   "execution_count": null,
   "id": "4bc7ee09fe9100e5",
   "metadata": {
    "collapsed": true
   },
   "outputs": [],
   "source": [
    "import pandas as pd\n",
    "import numpy as np\n",
    "import matplotlib.pyplot as plt\n",
    "import seaborn as sns"
   ]
  },
  {
   "metadata": {},
   "cell_type": "markdown",
   "source": "### Wczytanie danych",
   "id": "60ce85c4a7ec05fd"
  },
  {
   "metadata": {},
   "cell_type": "code",
   "outputs": [],
   "execution_count": null,
   "source": [
    "train = pd.read_csv('transform\\\\train.csv')\n",
    "test = pd.read_csv('transform\\\\test.csv')"
   ],
   "id": "d30c5b58cff23422"
  },
  {
   "metadata": {},
   "cell_type": "markdown",
   "source": "### Podział na zbiór treningowy i walidacyjny",
   "id": "6113c1895455dbc5"
  },
  {
   "metadata": {},
   "cell_type": "code",
   "outputs": [],
   "execution_count": null,
   "source": [
    "from sklearn.model_selection import train_test_split\n",
    "\n",
    "X, y = train.drop(columns=['pm2_5'], axis=1), train['pm2_5']\n",
    "test_ids = test['id']\n",
    "X_train, X_test, y_train, y_test = train_test_split(X, y, test_size=0.3, random_state=4)\n",
    "X_train = pd.DataFrame(X_train, columns=X.columns)\n",
    "X_test = pd.DataFrame(X_test, columns=X.columns)"
   ],
   "id": "2eb1a0cafb84e41f"
  },
  {
   "metadata": {},
   "cell_type": "markdown",
   "source": "### Zapis predykcji",
   "id": "1027da69e816aee"
  },
  {
   "metadata": {},
   "cell_type": "code",
   "outputs": [],
   "execution_count": null,
   "source": [
    "import os\n",
    "\n",
    "\n",
    "def save_to_csv(y_pred, save_as):\n",
    "    if 'result' not in os.listdir(os.getcwd()):\n",
    "        os.mkdir('result')\n",
    "    final_df = pd.concat([test_ids, pd.DataFrame.from_dict({'pm2_5': y_pred})], axis=1)\n",
    "    final_df.to_csv(f'result\\\\{save_as}', index=False)"
   ],
   "id": "initial_id"
  },
  {
   "metadata": {},
   "cell_type": "markdown",
   "source": "### <center>Optuna + XGBoost</center>",
   "id": "ae4e6d23d39636ee"
  },
  {
   "metadata": {},
   "cell_type": "code",
   "outputs": [],
   "execution_count": null,
   "source": [
    "import xgboost as xgb\n",
    "import optuna\n",
    "from sklearn.metrics import root_mean_squared_error\n",
    "\n",
    "\n",
    "def define_xgb_model(trial):\n",
    "    params = {\n",
    "        'objective': 'reg:squarederror',\n",
    "        'n_estimators': trial.suggest_int('n_estimators', 750, 1100),\n",
    "        'subsample': trial.suggest_float('subsample', 0.1, 0.6, log=True),\n",
    "        'reg_lambda': trial.suggest_float('reg_lambda', 1e-4, 1, log=True),\n",
    "        'learning_rate': trial.suggest_float('learning_rate', 1e-3, 1, log=True),\n",
    "        'max_depth': trial.suggest_int('max_depth', 6, 10),\n",
    "        'colsample_bytree': trial.suggest_float('colsample_bytree', 0.1, 1, log=True),\n",
    "        'tree_method': trial.suggest_categorical('tree_method', ['hist', 'approx']),\n",
    "        'verbosity': 0,\n",
    "        'enable_categorical': True,\n",
    "        'n_jobs': -1\n",
    "    }\n",
    "    return xgb.XGBRegressor(**params)\n",
    "\n",
    "def objective_xgb(trial):\n",
    "    model = define_xgb_model(trial)\n",
    "    model.fit(X_train, y_train)\n",
    "    return root_mean_squared_error(y_test, model.predict(X_test))"
   ],
   "id": "da76471ae51c390d"
  },
  {
   "metadata": {},
   "cell_type": "code",
   "outputs": [],
   "execution_count": null,
   "source": [
    "study_xgboost = optuna.create_study(direction='minimize', study_name='AirQualityWithXGBoost',\n",
    "                                    sampler=optuna.samplers.TPESampler())\n",
    "study_xgboost.optimize(objective_xgb, n_trials=100)"
   ],
   "id": "110375dd2f73c7b6"
  },
  {
   "metadata": {},
   "cell_type": "markdown",
   "source": "### Zdefiniowanie najlepszego XGBoost",
   "id": "20f3d1f728dae533"
  },
  {
   "metadata": {},
   "cell_type": "code",
   "outputs": [],
   "execution_count": null,
   "source": [
    "xgb_model = define_xgb_model(study_xgboost.best_trial)\n",
    "\n",
    "xgb_model.fit(X_train, y_train)\n",
    "xgboost_params = ['n_estimators', 'subsample', 'reg_lambda', 'learning_rate', 'max_depth', 'colsample_bytree']\n",
    "xgb_pred = xgb_model.predict(X_test)\n",
    "root_mean_squared_error(y_test, xgb_pred)"
   ],
   "id": "6f73f20b3e91cb5a"
  },
  {
   "metadata": {},
   "cell_type": "markdown",
   "source": "### Krzywa nauki dla XGBoost",
   "id": "a15c41beab6f54e0"
  },
  {
   "metadata": {},
   "cell_type": "code",
   "outputs": [],
   "execution_count": null,
   "source": [
    "from sklearn.model_selection import LearningCurveDisplay\n",
    "\n",
    "\n",
    "LearningCurveDisplay.from_estimator(xgb_model, X, y, cv=20, n_jobs=-1, random_state=4, scoring='neg_root_mean_squared_error')"
   ],
   "id": "6d5e4a8635236f71"
  },
  {
   "metadata": {},
   "cell_type": "markdown",
   "source": "### Wykres przedstawiający każdy <i>trial</i> w procesie nauki",
   "id": "fc7bba2a141718d6"
  },
  {
   "metadata": {},
   "cell_type": "code",
   "outputs": [],
   "execution_count": null,
   "source": "optuna.visualization.plot_optimization_history(study_xgboost)",
   "id": "64cb441b3dcb8713"
  },
  {
   "metadata": {},
   "cell_type": "markdown",
   "source": "### Wizualizacja przekroju parametrów",
   "id": "4a132e434f536920"
  },
  {
   "metadata": {},
   "cell_type": "code",
   "outputs": [],
   "execution_count": null,
   "source": "optuna.visualization.plot_slice(study_xgboost, params=xgboost_params)",
   "id": "f0e69807a30e8464"
  },
  {
   "metadata": {},
   "cell_type": "markdown",
   "source": "### Wpływ poszczególnych parametrów na proces nauki modelu",
   "id": "8bf1abe4a5eed1e0"
  },
  {
   "metadata": {},
   "cell_type": "code",
   "outputs": [],
   "execution_count": null,
   "source": "optuna.visualization.plot_param_importances(study_xgboost)",
   "id": "94da802fb4b49034"
  },
  {
   "metadata": {},
   "cell_type": "markdown",
   "source": "### Najlepsze parametry",
   "id": "5efdd08dc576f7b2"
  },
  {
   "metadata": {},
   "cell_type": "code",
   "outputs": [],
   "execution_count": null,
   "source": "study_xgboost.best_params",
   "id": "4e9226cc775bd937"
  },
  {
   "metadata": {},
   "cell_type": "markdown",
   "source": "### Predykcje XGBoost",
   "id": "bd775872bec10ba3"
  },
  {
   "metadata": {},
   "cell_type": "code",
   "outputs": [],
   "execution_count": null,
   "source": "save_to_csv(xgb_model.predict(test), 'xgb.csv')",
   "id": "b7a8d818cd8003e7"
  }
 ],
 "metadata": {
  "kernelspec": {
   "display_name": "Python 3",
   "language": "python",
   "name": "python3"
  },
  "language_info": {
   "codemirror_mode": {
    "name": "ipython",
    "version": 2
   },
   "file_extension": ".py",
   "mimetype": "text/x-python",
   "name": "python",
   "nbconvert_exporter": "python",
   "pygments_lexer": "ipython2",
   "version": "2.7.6"
  }
 },
 "nbformat": 4,
 "nbformat_minor": 5
}
