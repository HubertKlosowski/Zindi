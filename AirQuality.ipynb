{
 "cells": [
  {
   "cell_type": "markdown",
   "source": [
    "## <center>Analiza poziomu PM2.5 w afrykańskich miastach</center>\n",
    "### Zespół:\n",
    "<ol>\n",
    "    <li style='font-size: 20px'>Hubert Kłosowski 242424</li>\n",
    "    <li style='font-size: 20px'>Krzysztof Kolanek 242425</li>\n",
    "    <li style='font-size: 20px'>Kamil Małecki 242464</li>\n",
    "</ol>"
   ],
   "metadata": {
    "collapsed": false
   },
   "id": "d2a096af4d2cacc3"
  },
  {
   "cell_type": "markdown",
   "source": [
    "### Potrzebne importy"
   ],
   "metadata": {
    "collapsed": false
   },
   "id": "31a57b6008c92140"
  },
  {
   "cell_type": "code",
   "outputs": [],
   "source": [
    "import pandas as pd\n",
    "import numpy as np\n",
    "import matplotlib.pyplot as plt\n",
    "import seaborn as sns"
   ],
   "metadata": {
    "collapsed": false
   },
   "id": "f44b8667be4021ab",
   "execution_count": null
  },
  {
   "cell_type": "markdown",
   "source": [
    "### Wczytanie danych"
   ],
   "metadata": {
    "collapsed": false
   },
   "id": "d3c7a6517c9f58e8"
  },
  {
   "cell_type": "code",
   "outputs": [],
   "source": [
    "data = pd.read_csv('data\\\\Train.csv')\n",
    "test = pd.read_csv('data\\\\Test.csv')\n",
    "\n",
    "data.info()"
   ],
   "metadata": {
    "collapsed": false
   },
   "id": "8195eb62bb5596b5",
   "execution_count": null
  },
  {
   "cell_type": "code",
   "outputs": [],
   "source": [
    "data.head()"
   ],
   "metadata": {
    "collapsed": false
   },
   "id": "dcef3f3066b6dcaa",
   "execution_count": null
  },
  {
   "cell_type": "markdown",
   "source": [
    "### Rozbicie daty na składowe"
   ],
   "metadata": {
    "collapsed": false
   },
   "id": "af49ecab4176ea4c"
  },
  {
   "cell_type": "code",
   "outputs": [],
   "source": [
    "def change_date(dataframe):\n",
    "    dataframe['date'] = pd.to_datetime(dataframe['date'])\n",
    "    dataframe['day'] = dataframe['date'].dt.dayofweek.astype(np.int64)\n",
    "    dataframe['month'] = dataframe['month'].astype(np.int64)\n",
    "    return dataframe\n",
    "\n",
    "data, test = change_date(data), change_date(test)"
   ],
   "metadata": {
    "collapsed": false
   },
   "id": "96de3f55dc052fc9",
   "execution_count": null
  },
  {
   "cell_type": "markdown",
   "source": [
    "### Wykres przedstawiający jakość powietrza w krajach afrykańskich"
   ],
   "metadata": {
    "collapsed": false
   },
   "id": "cdbb93a09da5579d"
  },
  {
   "cell_type": "code",
   "outputs": [],
   "source": [
    "sns.lineplot(data=data, x='date', y='pm2_5', hue='country')\n",
    "plt.title('Jakość powietrza z podziałem na kraje')"
   ],
   "metadata": {
    "collapsed": false
   },
   "id": "c080d74ffd38ea41",
   "execution_count": null
  },
  {
   "cell_type": "markdown",
   "source": [
    "### Wykres przedstawiający wartość pm2_5 w zarejestrowanych godzinach"
   ],
   "metadata": {
    "collapsed": false
   },
   "id": "c18ec25179e58a3d"
  },
  {
   "cell_type": "code",
   "outputs": [],
   "source": [
    "sns.barplot(data=data, x='hour', y='pm2_5', hue='country')\n",
    "plt.title('Jakość powietrza w poszczególnych godzinach z podziałem na kraje')"
   ],
   "metadata": {
    "collapsed": false
   },
   "id": "1cc187b6375c9eb4",
   "execution_count": null
  },
  {
   "cell_type": "markdown",
   "source": [
    "### Wykres przedstawiający wartość pm2_5 z zależności od dnia tygodnia"
   ],
   "metadata": {
    "collapsed": false
   },
   "id": "e4b3fd78e799e096"
  },
  {
   "cell_type": "code",
   "outputs": [],
   "source": [
    "sns.barplot(data=data, x='day', y='pm2_5', hue='country')\n",
    "plt.title('Jakość powietrza w każdym dniu tygodnia z podziałem na kraje')"
   ],
   "metadata": {
    "collapsed": false
   },
   "id": "36c6ec9520527975",
   "execution_count": null
  },
  {
   "cell_type": "markdown",
   "source": [
    "### Wykres przedstawiający wartość pm2_5 z zależności od miesiąca"
   ],
   "metadata": {
    "collapsed": false
   },
   "id": "c018df974513e0e3"
  },
  {
   "cell_type": "code",
   "outputs": [],
   "source": [
    "sns.barplot(data=data, x='month', y='pm2_5', hue='country')\n",
    "plt.title('Jakość powietrza w każdym dniu tygodnia z podziałem na kraje')"
   ],
   "metadata": {
    "collapsed": false
   },
   "id": "18b6234a9ec5ca95",
   "execution_count": null
  },
  {
   "cell_type": "markdown",
   "source": [
    "### Korelacje poszczególnych grup kolumn"
   ],
   "metadata": {
    "collapsed": false
   },
   "id": "785f97dcd77bdb1c"
  },
  {
   "cell_type": "code",
   "outputs": [],
   "source": [
    "def correlation():\n",
    "    for index, column in enumerate(starts_with):\n",
    "        fig, ax = plt.subplots(figsize=(10, 10))\n",
    "        selected_columns = [col for col in data.columns if col.startswith(column) or col == 'pm2_5']\n",
    "        sns.heatmap(data[selected_columns].corr(), annot=True, fmt='.2f', cmap='viridis', ax=ax)\n",
    "        plt.tight_layout()\n",
    "        plt.show()\n",
    "\n",
    "final_ids = test['id']\n",
    "data.drop(columns=['id', 'city', 'country', 'site_id', 'date', 'site_latitude', 'site_longitude', 'sulphurdioxide_so2_column_number_density_15km'], inplace=True)\n",
    "test.drop(columns=['id', 'city', 'country', 'site_id', 'date', 'site_latitude', 'site_longitude', 'sulphurdioxide_so2_column_number_density_15km'], inplace=True)\n",
    "starts_with = data.columns.str.split('_', expand=True).levels[0].to_frame()\n",
    "starts_with.drop(['month', 'day', 'hour', 'pm2'], inplace=True)\n",
    "starts_with = starts_with[0].tolist()\n",
    "\n",
    "correlation()"
   ],
   "metadata": {
    "collapsed": false
   },
   "id": "67d0ec8072327669",
   "execution_count": null
  },
  {
   "cell_type": "markdown",
   "source": [
    "## <center>Czyszczenie danych</center>"
   ],
   "metadata": {
    "collapsed": false
   },
   "id": "ab3216061cba4b3a"
  },
  {
   "cell_type": "markdown",
   "source": [
    "### Wykresy przedstawiające ilość NaN w danej kolumnie w zależności od przyjętej jednostki czasu"
   ],
   "metadata": {
    "collapsed": false
   },
   "id": "fe2fc5c33fc856fe"
  },
  {
   "cell_type": "code",
   "outputs": [],
   "source": [
    "def plot_nans_based_on(date_unit='day'):\n",
    "    for index, column_group in enumerate(starts_with):\n",
    "        similar_columns = [el for el in data.columns if el.startswith(column_group)]\n",
    "        fig, ax = plt.subplots(nrows=int(np.ceil(len(similar_columns) / 4)), ncols=4, figsize=(20, 20))\n",
    "        for j, column in enumerate(similar_columns):\n",
    "            x_cord, y_cord = divmod(j, 4)\n",
    "            nans = data[[column, date_unit]].groupby(date_unit).apply(lambda x: x.isna().sum())\n",
    "            nans.plot(kind='bar', x=date_unit, y=column, ax=ax[x_cord][y_cord])\n",
    "        plt.show()\n",
    "\n",
    "plot_nans_based_on()"
   ],
   "metadata": {
    "collapsed": false
   },
   "id": "6d6253f26d721fb",
   "execution_count": null
  },
  {
   "cell_type": "markdown",
   "source": [
    "### 1. Uzupełnienie wartości brakujących"
   ],
   "metadata": {
    "collapsed": false
   },
   "id": "ba2f9b8e1bcb96ad"
  },
  {
   "cell_type": "code",
   "outputs": [],
   "source": [
    "from sklearn.impute import KNNImputer\n",
    "\n",
    "def fill_based_on(dataframe, date_unit='day'):\n",
    "    date_range = dataframe[date_unit].unique()\n",
    "    for date in date_range:\n",
    "        for i, column in enumerate(starts_with):\n",
    "            similar_columns = [el for el in dataframe.columns if el.startswith(column)]\n",
    "            df = dataframe.loc[dataframe[date_unit] == date, similar_columns]\n",
    "            if not df.empty:\n",
    "                if dataframe.equals(data):\n",
    "                    dataframe.loc[dataframe[date_unit] == date, similar_columns] = imputers[i].fit_transform(df)\n",
    "                else:\n",
    "                    dataframe.loc[dataframe[date_unit] == date, similar_columns] = imputers[i].transform(df)\n",
    "    return dataframe\n",
    "\n",
    "def prepare_dataframe(dataframe):  # usuwamy kolumny o dużej liczbie wartości NaN\n",
    "    to_drop = []\n",
    "    for index, el in enumerate(dataframe.columns):\n",
    "        if dataframe[el].isna().sum() / len(dataframe) >= 0.9:\n",
    "            to_drop.append(el)\n",
    "    dataframe.drop(to_drop, axis=1, inplace=True)\n",
    "    return dataframe\n",
    "\n",
    "imputers = [KNNImputer(n_neighbors=7, weights='distance') for _ in range(len(starts_with))]\n",
    "data, test = prepare_dataframe(data), prepare_dataframe(test)\n",
    "data, test = fill_based_on(data), fill_based_on(test)"
   ],
   "metadata": {
    "collapsed": false
   },
   "id": "133fbc1ffe6ae43a",
   "execution_count": null
  },
  {
   "cell_type": "markdown",
   "source": [
    "### Wykresy pudełkowe wskazujące wartości odstające"
   ],
   "metadata": {
    "collapsed": false
   },
   "id": "9af06f017aaea4c3"
  },
  {
   "cell_type": "code",
   "outputs": [],
   "source": [
    "def plot_boxplots():\n",
    "    for index, column_group in enumerate(starts_with):\n",
    "        similar_columns = [col for col in data.columns if col.startswith(column_group)]\n",
    "        rows = int(np.ceil(len(similar_columns) / 4))\n",
    "        if rows >= 1:\n",
    "            fig, ax = plt.subplots(nrows=int(np.ceil(len(similar_columns) / 4)), ncols=4, figsize=(20, 20))\n",
    "            fig.suptitle(column_group, fontsize=15)\n",
    "            for j, column in enumerate(similar_columns):\n",
    "                x_cord, y_cord = divmod(j, 4)\n",
    "                data[column].plot(kind='box', ax=ax[x_cord][y_cord])\n",
    "            plt.show()\n",
    "\n",
    "plot_boxplots()"
   ],
   "metadata": {
    "collapsed": false
   },
   "id": "7901bc4c9d7d1412",
   "execution_count": null
  },
  {
   "cell_type": "markdown",
   "source": [
    "### 2. Usunięcie wartości odstających"
   ],
   "metadata": {
    "collapsed": false
   },
   "id": "a767724811d79e3c"
  },
  {
   "cell_type": "code",
   "outputs": [],
   "source": [
    "from scipy.stats import zscore\n",
    "\n",
    "def del_big_outliers(dataframe, column):\n",
    "    vec, indexes = zscore(dataframe[column]), []\n",
    "    for index in range(len(vec)):\n",
    "        if vec[index] >= 2.5:\n",
    "            indexes.append(index)\n",
    "    dataframe.drop(index=indexes, inplace=True)\n",
    "    return dataframe\n",
    "\n",
    "# data = del_big_outliers(data, '')"
   ],
   "metadata": {
    "collapsed": false
   },
   "id": "1e31da0f18fee574",
   "execution_count": null
  },
  {
   "cell_type": "code",
   "outputs": [],
   "source": [
    "data.info()"
   ],
   "metadata": {
    "collapsed": false
   },
   "id": "3463da86e8af6bd7",
   "execution_count": null
  },
  {
   "cell_type": "markdown",
   "source": [
    "## <center>Selekcja cech</center>"
   ],
   "metadata": {
    "collapsed": false
   },
   "id": "7a9161db0ea237c"
  },
  {
   "cell_type": "code",
   "outputs": [],
   "source": [
    "from sklearn.feature_selection import SelectKBest, mutual_info_regression\n",
    "\n",
    "X, y = data.drop(['pm2_5'], axis=1), data['pm2_5']\n",
    "k = 20\n",
    "selector = SelectKBest(score_func=mutual_info_regression, k=k)\n",
    "X = selector.fit_transform(X, y)"
   ],
   "metadata": {
    "collapsed": false
   },
   "id": "c002ded9461774c1",
   "execution_count": null
  },
  {
   "cell_type": "markdown",
   "source": [
    "### Oceny cech"
   ],
   "metadata": {
    "collapsed": false
   },
   "id": "6f32f2d770db1fed"
  },
  {
   "cell_type": "code",
   "outputs": [],
   "source": [
    "import matplotlib.pyplot as plt\n",
    "\n",
    "scores = dict(zip(selector.feature_names_in_, selector.scores_))\n",
    "scores = sorted(scores.items(), key=lambda x: x[1], reverse=True)[:k]\n",
    "scores_df = pd.DataFrame(scores, columns=['Feature', 'Score'])\n",
    "\n",
    "scores_df.plot(kind='bar', x='Feature', y='Score', figsize=(10, 6), rot=90, title='Oceny wybranych cech')\n",
    "plt.xlabel('Cecha')\n",
    "plt.ylabel('Ocena')"
   ],
   "metadata": {
    "collapsed": false
   },
   "id": "164483ce288b356a",
   "execution_count": null
  },
  {
   "cell_type": "markdown",
   "source": [
    "## <center>Transformacja danych</center>"
   ],
   "metadata": {
    "collapsed": false
   },
   "id": "a8b9be23efdbd904"
  },
  {
   "cell_type": "markdown",
   "source": [
    "### Potrzebne importy"
   ],
   "metadata": {
    "collapsed": false
   },
   "id": "eae50f8387e668ab"
  },
  {
   "cell_type": "code",
   "outputs": [],
   "source": [
    "from sklearn.preprocessing import StandardScaler\n",
    "from sklearn.model_selection import train_test_split"
   ],
   "metadata": {
    "collapsed": false
   },
   "id": "537a6c450bd1efa2",
   "execution_count": null
  },
  {
   "cell_type": "markdown",
   "source": [
    "### 1. Standaryzacja danych"
   ],
   "metadata": {
    "collapsed": false
   },
   "id": "22bf5b75d8429019"
  },
  {
   "cell_type": "code",
   "outputs": [],
   "source": [
    "scaler = StandardScaler()\n",
    "test = test[scores_df['Feature']]\n",
    "scaler.fit(X)\n",
    "X, test = scaler.transform(X), scaler.transform(test.to_numpy())"
   ],
   "metadata": {
    "collapsed": false
   },
   "id": "3a48dc86e55f85b5",
   "execution_count": null
  },
  {
   "cell_type": "markdown",
   "source": [
    "### 2. Podział na zbiór testowy i treningowy"
   ],
   "metadata": {
    "collapsed": false
   },
   "id": "5c70912092f074e4"
  },
  {
   "cell_type": "code",
   "outputs": [],
   "source": [
    "X_train, X_test, y_train, y_test = train_test_split(X, y, test_size=0.33, random_state=4)"
   ],
   "metadata": {
    "collapsed": false
   },
   "id": "683541f15475f393",
   "execution_count": null
  },
  {
   "cell_type": "markdown",
   "source": [
    "## <center>Część obliczeniowa</center>"
   ],
   "metadata": {
    "collapsed": false
   },
   "id": "4ea367ef409a37a5"
  },
  {
   "cell_type": "markdown",
   "source": [
    "### Potrzebne importy"
   ],
   "metadata": {
    "collapsed": false
   },
   "id": "f087e5cbcc23b0ae"
  },
  {
   "cell_type": "code",
   "outputs": [],
   "source": [
    "import torch\n",
    "from torch import nn, optim"
   ],
   "metadata": {
    "collapsed": false
   },
   "id": "498ea0f7dd22079c",
   "execution_count": null
  },
  {
   "cell_type": "markdown",
   "source": [
    "### 1. Wybór karty graficznej do nauki modelu"
   ],
   "metadata": {
    "collapsed": false
   },
   "id": "aaf607cc44710975"
  },
  {
   "cell_type": "code",
   "outputs": [],
   "source": [
    "device = (\n",
    "    'cuda'\n",
    "    if torch.cuda.is_available()\n",
    "    else 'mps'\n",
    "    if torch.backends.mps.is_available()\n",
    "    else 'cpu'\n",
    ")\n",
    "\n",
    "X_train_tensor = torch.tensor(X_train, device=device, dtype=torch.float)\n",
    "X_test_tensor = torch.tensor(X_test, device=device, dtype=torch.float)\n",
    "y_train_tensor = torch.tensor(y_train.to_numpy(), device=device, dtype=torch.float)\n",
    "y_test_tensor = torch.tensor(y_test.to_numpy(), device=device, dtype=torch.float)\n",
    "test = torch.tensor(test, device=device, dtype=torch.float)"
   ],
   "metadata": {
    "collapsed": false
   },
   "id": "e1ea7f2091127d19",
   "execution_count": null
  },
  {
   "cell_type": "markdown",
   "source": [
    "### 2. Architektura sieci neuronowej"
   ],
   "metadata": {
    "collapsed": false
   },
   "id": "aff1a14b2bea3818"
  },
  {
   "cell_type": "code",
   "outputs": [],
   "source": [
    "class Net(nn.Module):\n",
    "    def __init__(self):\n",
    "        super(Net, self).__init__()\n",
    "        self.layers = nn.Sequential(\n",
    "            nn.Linear(X_train_tensor.shape[1], 99),\n",
    "            nn.ReLU(),\n",
    "            nn.Dropout(p=0.2),\n",
    "            nn.Linear(99, 258),\n",
    "            nn.ReLU(),\n",
    "            nn.Linear(258, 124),\n",
    "            nn.ReLU(),\n",
    "            nn.Linear(124, 64),\n",
    "            nn.ReLU(),\n",
    "            nn.Dropout(p=0.1),\n",
    "            nn.Linear(64, 1),\n",
    "        )\n",
    "        \n",
    "    def forward(self, x):\n",
    "        return self.layers(x)\n",
    "\n",
    "model = Net().to(device=device)\n",
    "loss_fn = nn.MSELoss()\n",
    "optimizer = optim.Adam(\n",
    "    model.parameters(), \n",
    "    lr=0.01, \n",
    "    betas=(0.7, 0.999), \n",
    "    eps=1e-08, \n",
    "    weight_decay=1e-3\n",
    ")"
   ],
   "metadata": {
    "collapsed": false
   },
   "id": "5bbca20bcc1becc8",
   "execution_count": null
  },
  {
   "cell_type": "markdown",
   "source": [
    "### 3. Nauka sieci neuronowej na zbiorze treningowym"
   ],
   "metadata": {
    "collapsed": false
   },
   "id": "17f3f743712603d7"
  },
  {
   "cell_type": "code",
   "outputs": [],
   "source": [
    "num_epochs = 200\n",
    "for epoch in range(num_epochs):\n",
    "    model.train()\n",
    "    optimizer.zero_grad()\n",
    "    outputs = model(X_train_tensor)\n",
    "    loss = loss_fn(outputs.squeeze(), y_train_tensor)\n",
    "    rmse = torch.sqrt(loss)\n",
    "    loss.backward()\n",
    "    optimizer.step()\n",
    "    if (epoch + 1) % 10 == 0:\n",
    "        print(f'Epoch [{epoch+1}/{num_epochs}], RMSE: {rmse.item():.4f}')"
   ],
   "metadata": {
    "collapsed": false
   },
   "id": "ee01653bc24ee293",
   "execution_count": null
  },
  {
   "cell_type": "markdown",
   "source": [
    "### 5. Testowanie sieci neuronowej"
   ],
   "metadata": {
    "collapsed": false
   },
   "id": "2f4ae6f4bd5948ff"
  },
  {
   "cell_type": "code",
   "outputs": [],
   "source": [
    "with torch.no_grad():\n",
    "    y_pred = model(X_test_tensor)\n",
    "    rmse = torch.sqrt(loss_fn(y_pred.squeeze(), y_test_tensor))\n",
    "    print(f'RMSE: {rmse.item():.4f}')"
   ],
   "metadata": {
    "collapsed": false
   },
   "id": "f4907fe921715dfa",
   "execution_count": null
  },
  {
   "cell_type": "markdown",
   "source": [
    "## <center>Do wysłania</center>"
   ],
   "metadata": {
    "collapsed": false
   },
   "id": "79bf1209e752a444"
  },
  {
   "cell_type": "code",
   "outputs": [],
   "source": [
    "with torch.no_grad():\n",
    "    y_pred = model(test)\n",
    "    final_df = pd.concat([final_ids, pd.DataFrame.from_dict({'pm2_5': y_pred.squeeze().numpy(force=True)})], axis=1)\n",
    "    final_df.rename(columns={'id': 'ID'}, inplace=True)\n",
    "    final_df['pm2_5'] = final_df['pm2_5'].apply(lambda x: np.sqrt(x))\n",
    "    final_df.to_csv('result.csv', index=False)"
   ],
   "metadata": {
    "collapsed": false
   },
   "id": "74ce5044d06598de",
   "execution_count": null
  },
  {
   "cell_type": "markdown",
   "source": [
    "### Dodatkowe informacje\n",
    "<ol>\n",
    "    <li>The 15km SO2 band is ingested only when solar_zenith_angle < 70.</li>\n",
    "    <li>Because of noise on the data, negative vertical column values are often observed in particular over clean regions or for low SO2 emissions. It is recommended not to filter these values except for outliers, i.e. for vertical columns lower than -0.001 mol/m^2.</li>\n",
    "</ol>"
   ],
   "metadata": {
    "collapsed": false
   },
   "id": "d2128d77bca7e777"
  }
 ],
 "metadata": {
  "kernelspec": {
   "display_name": "Python 3",
   "language": "python",
   "name": "python3"
  },
  "language_info": {
   "codemirror_mode": {
    "name": "ipython",
    "version": 2
   },
   "file_extension": ".py",
   "mimetype": "text/x-python",
   "name": "python",
   "nbconvert_exporter": "python",
   "pygments_lexer": "ipython2",
   "version": "2.7.6"
  }
 },
 "nbformat": 4,
 "nbformat_minor": 5
}
