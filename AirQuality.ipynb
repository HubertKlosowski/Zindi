{
 "cells": [
  {
   "cell_type": "markdown",
   "source": [
    "## <center>Analiza poziomu PM2.5 w afrykańskich miastach</center>\n",
    "### Zespół:\n",
    "<ol>\n",
    "    <li style='font-size: 20px'>Hubert Kłosowski 242424</li>\n",
    "    <li style='font-size: 20px'>Krzysztof Kolanek 242425</li>\n",
    "    <li style='font-size: 20px'>Kamil Małecki 242464</li>\n",
    "</ol>"
   ],
   "metadata": {
    "collapsed": false
   },
   "id": "d2a096af4d2cacc3"
  },
  {
   "cell_type": "markdown",
   "source": [
    "### Potrzebne importy"
   ],
   "metadata": {
    "collapsed": false
   },
   "id": "31a57b6008c92140"
  },
  {
   "cell_type": "code",
   "outputs": [],
   "source": [
    "import pandas as pd\n",
    "import numpy as np\n",
    "import matplotlib.pyplot as plt\n",
    "import seaborn as sns"
   ],
   "metadata": {
    "collapsed": false
   },
   "id": "f44b8667be4021ab",
   "execution_count": null
  },
  {
   "cell_type": "markdown",
   "source": [
    "### Wczytanie danych"
   ],
   "metadata": {
    "collapsed": false
   },
   "id": "d3c7a6517c9f58e8"
  },
  {
   "cell_type": "code",
   "outputs": [],
   "source": [
    "train = pd.read_csv('data\\\\Train.csv')\n",
    "test = pd.read_csv('data\\\\Test.csv')\n",
    "\n",
    "train.info()"
   ],
   "metadata": {
    "collapsed": false
   },
   "id": "8195eb62bb5596b5",
   "execution_count": null
  },
  {
   "cell_type": "code",
   "outputs": [],
   "source": [
    "train.head()"
   ],
   "metadata": {
    "collapsed": false
   },
   "id": "dcef3f3066b6dcaa",
   "execution_count": null
  },
  {
   "cell_type": "markdown",
   "source": [
    "### Rozbicie daty na składowe"
   ],
   "metadata": {
    "collapsed": false
   },
   "id": "af49ecab4176ea4c"
  },
  {
   "cell_type": "code",
   "outputs": [],
   "source": [
    "def change_date(df):\n",
    "    train['date'] = pd.to_datetime(train['date'])\n",
    "    df['day'] = df['date'].dt.dayofweek.astype(np.int64)\n",
    "    df['month'] = df['month'].astype(np.int64)\n",
    "    return df\n",
    "\n",
    "train = change_date(train)"
   ],
   "metadata": {
    "collapsed": false
   },
   "id": "96de3f55dc052fc9",
   "execution_count": null
  },
  {
   "cell_type": "markdown",
   "source": [
    "### Wykres przedstawiający jakość powietrza z krajach afrykańskich"
   ],
   "metadata": {
    "collapsed": false
   },
   "id": "cdbb93a09da5579d"
  },
  {
   "cell_type": "code",
   "outputs": [],
   "source": [
    "sns.lineplot(data=train, x='date', y='pm2_5', hue='country')\n",
    "plt.title('Jakość powietrza z podziałem na kraje')"
   ],
   "metadata": {
    "collapsed": false
   },
   "id": "c080d74ffd38ea41",
   "execution_count": null
  },
  {
   "cell_type": "markdown",
   "source": [
    "### Wykres przedstawiający wartość pm2_5 w zarejestrowanych godzinach"
   ],
   "metadata": {
    "collapsed": false
   },
   "id": "c18ec25179e58a3d"
  },
  {
   "cell_type": "code",
   "outputs": [],
   "source": [
    "sns.barplot(data=train, x='hour', y='pm2_5', hue='country')\n",
    "plt.title('Jakość powietrza w poszczególnych godzinach z podziałem na kraje')"
   ],
   "metadata": {
    "collapsed": false
   },
   "id": "1cc187b6375c9eb4",
   "execution_count": null
  },
  {
   "cell_type": "markdown",
   "source": [
    "### Wykres przedstawiający wartość pm2_5 z zależności od miesięcy i krajów"
   ],
   "metadata": {
    "collapsed": false
   },
   "id": "e4b3fd78e799e096"
  },
  {
   "cell_type": "code",
   "outputs": [],
   "source": [
    "sns.barplot(data=train, x='month', y='pm2_5', hue='country')\n",
    "plt.title('Jakość powietrza w poszczególnych miesiącach z podziałem na kraje')"
   ],
   "metadata": {
    "collapsed": false
   },
   "id": "36c6ec9520527975",
   "execution_count": null
  },
  {
   "cell_type": "markdown",
   "source": [
    "### Korelacje poszczególnych grup kolumn"
   ],
   "metadata": {
    "collapsed": false
   },
   "id": "785f97dcd77bdb1c"
  },
  {
   "cell_type": "code",
   "outputs": [],
   "source": [
    "def correlation():\n",
    "    for index, el in enumerate(starts_with):\n",
    "        fig, ax = plt.subplots(figsize=(10, 10))\n",
    "        selected_columns = [col for col in train.columns if col.startswith(el) or col == 'pm2_5']\n",
    "        sns.heatmap(train[selected_columns].corr(), annot=True, fmt='.2f', cmap='viridis', ax=ax)\n",
    "        plt.tight_layout()\n",
    "        plt.show()\n",
    "\n",
    "train.drop(columns=['id', 'city', 'country', 'site_id', 'date'], inplace=True)\n",
    "starts_with = train.columns.str.split('_', expand=True).levels[0].to_frame()\n",
    "starts_with.drop(['month', 'day', 'hour', 'pm2'], inplace=True)\n",
    "starts_with = starts_with[0].tolist()\n",
    "\n",
    "correlation()"
   ],
   "metadata": {
    "collapsed": false
   },
   "id": "67d0ec8072327669",
   "execution_count": null
  },
  {
   "cell_type": "markdown",
   "source": [
    "## <center>Czyszczenie danych</center>"
   ],
   "metadata": {
    "collapsed": false
   },
   "id": "ab3216061cba4b3a"
  },
  {
   "cell_type": "markdown",
   "source": [
    "### Wykresy pudełkowe wskazujące wartości odstające dla sulphurdioxide"
   ],
   "metadata": {
    "collapsed": false
   },
   "id": "9af06f017aaea4c3"
  },
  {
   "cell_type": "code",
   "outputs": [],
   "source": [
    "def plot_boxplots(column_group='sulphurdioxide'):\n",
    "    fig, ax = plt.subplots(nrows=3, ncols=3, figsize=(20, 20))\n",
    "    similar_columns = [el for el in train.columns if el.startswith(column_group)]\n",
    "    for index, column in enumerate(similar_columns):\n",
    "        x, y = divmod(index, 3)\n",
    "        train[column].plot(kind='box', ax=ax[x][y])\n",
    "\n",
    "plot_boxplots()"
   ],
   "metadata": {
    "collapsed": false
   },
   "id": "7901bc4c9d7d1412",
   "execution_count": null
  },
  {
   "cell_type": "markdown",
   "source": [
    "### 1. Usunięcie wartości odstających przy użyciu metody zscore"
   ],
   "metadata": {
    "collapsed": false
   },
   "id": "a767724811d79e3c"
  },
  {
   "cell_type": "code",
   "outputs": [],
   "source": [
    "from scipy.stats import zscore\n",
    "\n",
    "def del_outliers(dataframe):\n",
    "    for col in dataframe.columns:\n",
    "        vec, indexes = zscore(dataframe[col]), []\n",
    "        for index in range(len(vec)):\n",
    "            if -3 <= vec[index] >= 3:\n",
    "                indexes.append(index)\n",
    "        dataframe.drop(index=indexes, inplace=True)\n",
    "    return dataframe\n",
    "\n",
    "# train = del_outliers(train)"
   ],
   "metadata": {
    "collapsed": false
   },
   "id": "1e31da0f18fee574",
   "execution_count": null
  },
  {
   "cell_type": "markdown",
   "source": [
    "### Wykresy przedstawiające ilość NaN w danej kolumnie w zależności od przyjętej jednostki czasu dla sulphurdioxide"
   ],
   "metadata": {
    "collapsed": false
   },
   "id": "fe2fc5c33fc856fe"
  },
  {
   "cell_type": "code",
   "outputs": [],
   "source": [
    "def plot_nans_based_on(date_unit='month', column_group='sulphurdioxide'):\n",
    "    fig, ax = plt.subplots(nrows=3, ncols=3, figsize=(20, 20))\n",
    "    similar_columns = [el for el in train.columns if el.startswith(column_group)]\n",
    "    for index, column in enumerate(similar_columns):\n",
    "        x, y = divmod(index, 3)\n",
    "        nans = train[[column, date_unit]].groupby(date_unit).apply(lambda el: el.isna().sum())\n",
    "        nans.plot(kind='bar', x=date_unit, y=column, ax=ax[x][y])\n",
    "\n",
    "plot_nans_based_on()"
   ],
   "metadata": {
    "collapsed": false
   },
   "id": "6d6253f26d721fb",
   "execution_count": null
  },
  {
   "cell_type": "markdown",
   "source": [
    "### 2. Uzupełnienie wartości brakujacych"
   ],
   "metadata": {
    "collapsed": false
   },
   "id": "ba2f9b8e1bcb96ad"
  },
  {
   "cell_type": "code",
   "outputs": [],
   "source": [
    "from sklearn.impute import KNNImputer\n",
    "\n",
    "def fill_based_on(dataframe, date_unit='month'):  # uzupelnienie NaN\n",
    "    date_range = dataframe[date_unit].unique()\n",
    "    knn_imputer = KNNImputer(n_neighbors=10, weights='distance')\n",
    "    for date in date_range:\n",
    "        for column in starts_with:\n",
    "            similar_columns = [el for el in dataframe.columns if el.startswith(column)]  # wybieramy kolumny o podobnym znaczeniu\n",
    "            df = dataframe.loc[dataframe[date_unit] == date, similar_columns]  # wybieramy fragment df w tej samej jednostce czasu dla tych grup kolumn\n",
    "            if df.empty is not True:  # jesli zostaly znalezione jakies rekordy\n",
    "                dataframe.loc[dataframe[date_unit] == date, similar_columns] = knn_imputer.fit_transform(df)\n",
    "    return dataframe\n",
    "\n",
    "def prepare_dataframe(dataframe):  # usuwamy kolumny o dużej liczbie wartości NaN\n",
    "    to_drop = []\n",
    "    for index, el in enumerate(dataframe.columns):\n",
    "        if dataframe[el].isnull().sum() / len(dataframe) * 100 >= 61:\n",
    "            to_drop.append(el)\n",
    "    dataframe.drop(to_drop, axis=1, inplace=True)\n",
    "    return dataframe\n",
    "    \n",
    "train = prepare_dataframe(train)\n",
    "train = fill_based_on(train)\n",
    "\n",
    "train.info()"
   ],
   "metadata": {
    "collapsed": false
   },
   "id": "133fbc1ffe6ae43a",
   "execution_count": null
  },
  {
   "cell_type": "code",
   "outputs": [],
   "source": [
    "train.head()"
   ],
   "metadata": {
    "collapsed": false
   },
   "id": "e08be14ef0b05bda",
   "execution_count": null
  },
  {
   "cell_type": "markdown",
   "source": [
    "### <center>Transformacja danych</center>"
   ],
   "metadata": {
    "collapsed": false
   },
   "id": "a8b9be23efdbd904"
  },
  {
   "cell_type": "code",
   "outputs": [],
   "source": [
    "from sklearn.preprocessing import StandardScaler\n",
    "\n",
    "sts = StandardScaler()\n",
    "sts.fit(train)\n",
    "train = sts.transform(train)"
   ],
   "metadata": {
    "collapsed": false
   },
   "id": "3a48dc86e55f85b5",
   "execution_count": null
  },
  {
   "cell_type": "markdown",
   "source": [
    "### Praca z PyTorch\n",
    "<ol>\n",
    "    <li>Ustalanie karty graficznej jako urządzenia na którym proces nauki modelu zostanie wykonany</li>\n",
    "    <li>Konwersja train na tensor_train i umieszczenie go w pamięci karty graficznej</li>\n",
    "    <li>Zaprojektowanie architektury sieci neuronowej</li>\n",
    "    <li>Proces nauki</li>\n",
    "    <li>Zapisanie modelu<li>\n",
    "</ol>"
   ],
   "metadata": {
    "collapsed": false
   },
   "id": "e22517d482f4190b"
  },
  {
   "cell_type": "markdown",
   "source": [
    "### Potrzebne importy"
   ],
   "metadata": {
    "collapsed": false
   },
   "id": "eae50f8387e668ab"
  },
  {
   "cell_type": "code",
   "outputs": [],
   "source": [
    "import torch\n",
    "from torch import nn, optim, randperm"
   ],
   "metadata": {
    "collapsed": false
   },
   "id": "537a6c450bd1efa2",
   "execution_count": null
  },
  {
   "cell_type": "markdown",
   "source": [
    "### 1. Wybór karty graficznej do nauki modelu"
   ],
   "metadata": {
    "collapsed": false
   },
   "id": "dc5320265765f88d"
  },
  {
   "cell_type": "code",
   "outputs": [],
   "source": [
    "device = (\n",
    "    'cuda'\n",
    "    if torch.cuda.is_available()\n",
    "    else 'mps'\n",
    "    if torch.backends.mps.is_available()\n",
    "    else 'cpu'\n",
    ")"
   ],
   "metadata": {
    "collapsed": false
   },
   "id": "e1ea7f2091127d19",
   "execution_count": null
  },
  {
   "cell_type": "markdown",
   "source": [
    "### 2. Przeniesienie train do pamięci karty graficznej z podziałem na zbiór treningowy i testowy"
   ],
   "metadata": {
    "collapsed": false
   },
   "id": "5c70912092f074e4"
  },
  {
   "cell_type": "code",
   "outputs": [],
   "source": [
    "tensor_train = torch.tensor(train, device=device)"
   ],
   "metadata": {
    "collapsed": false
   },
   "id": "683541f15475f393",
   "execution_count": null
  },
  {
   "cell_type": "markdown",
   "source": [
    "### 3. Architektura sieci neuronowej"
   ],
   "metadata": {
    "collapsed": false
   },
   "id": "aff1a14b2bea3818"
  },
  {
   "cell_type": "code",
   "outputs": [],
   "source": [
    "model = nn.Sequential(\n",
    "    nn.Linear(tensor_train.shape[0], 64),\n",
    "    nn.ReLU(),\n",
    "    nn.Linear(64, 128),\n",
    "    nn.ReLU(),\n",
    "    nn.Linear(128, 72),\n",
    "    nn.ReLU(),\n",
    "    nn.Linear(72, 1),\n",
    ").to(device)\n",
    "\n",
    "loss_fn = nn.MSELoss()\n",
    "optimizer = optim.Adam(model.parameters(), lr=0.001)"
   ],
   "metadata": {
    "collapsed": false
   },
   "id": "5bbca20bcc1becc8",
   "execution_count": null
  },
  {
   "cell_type": "markdown",
   "source": [
    "### 4. Nauka sieci neuronowej"
   ],
   "metadata": {
    "collapsed": false
   },
   "id": "17f3f743712603d7"
  },
  {
   "cell_type": "code",
   "outputs": [],
   "source": [
    "n_epochs = 100  # przypomniec sobie\n",
    "batch_size = 10\n",
    "\n",
    "for epoch in range(n_epochs):\n",
    "    tensor_train = tensor_train[randperm(tensor_train.shape[0]), :]\n",
    "    loss_value = 0.0\n",
    "    for i, data in enumerate(tensor_train, 0):\n",
    "        optimizer.zero_grad()\n",
    "        \n",
    "        outputs = model(data)\n",
    "        \n",
    "        loss = loss_fn(outputs, loss_value)\n",
    "        \n",
    "        loss.backward()\n",
    "        \n",
    "        optimizer.step()\n",
    "        \n",
    "        loss_value += loss.item()\n",
    "        if i % 10 == 0:\n",
    "          print('Loss after mini-batch %5d: %.3f' %\n",
    "                (i + 1, loss_value / 500))\n",
    "          loss_value = 0.0"
   ],
   "metadata": {
    "collapsed": false
   },
   "id": "ee01653bc24ee293",
   "execution_count": null
  }
 ],
 "metadata": {
  "kernelspec": {
   "display_name": "Python 3",
   "language": "python",
   "name": "python3"
  },
  "language_info": {
   "codemirror_mode": {
    "name": "ipython",
    "version": 2
   },
   "file_extension": ".py",
   "mimetype": "text/x-python",
   "name": "python",
   "nbconvert_exporter": "python",
   "pygments_lexer": "ipython2",
   "version": "2.7.6"
  }
 },
 "nbformat": 4,
 "nbformat_minor": 5
}
