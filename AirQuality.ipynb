{
 "cells": [
  {
   "cell_type": "markdown",
   "source": [
    "## <center>Analiza poziomu PM2.5 w afrykańskich miastach</center>\n",
    "### by\n",
    "<ol>\n",
    "    <li style='font-size: 20px'>Hubert Kłosowski 242424</li>\n",
    "    <li style='font-size: 20px'>Krzysztof Kolanek 242425</li>\n",
    "    <li style='font-size: 20px'>Kamil Małecki 242464</li>\n",
    "</ol>"
   ],
   "metadata": {
    "collapsed": false
   },
   "id": "d2a096af4d2cacc3"
  },
  {
   "cell_type": "code",
   "outputs": [],
   "source": [
    "import pandas as pd\n",
    "import numpy as np\n",
    "import matplotlib.pyplot as plt\n",
    "import seaborn as sns\n",
    "from sklearn.preprocessing import LabelEncoder, StandardScaler"
   ],
   "metadata": {
    "collapsed": false
   },
   "id": "f44b8667be4021ab",
   "execution_count": null
  },
  {
   "cell_type": "markdown",
   "source": [
    "### Wczytanie danych"
   ],
   "metadata": {
    "collapsed": false
   },
   "id": "d3c7a6517c9f58e8"
  },
  {
   "cell_type": "code",
   "outputs": [],
   "source": [
    "data = pd.read_csv('data\\\\Train.csv')\n",
    "final_test = pd.read_csv('data\\\\Test.csv')\n",
    "\n",
    "data.info()"
   ],
   "metadata": {
    "collapsed": false
   },
   "id": "8195eb62bb5596b5",
   "execution_count": null
  },
  {
   "cell_type": "code",
   "outputs": [],
   "source": [
    "data.head()"
   ],
   "metadata": {
    "collapsed": false
   },
   "id": "dcef3f3066b6dcaa",
   "execution_count": null
  },
  {
   "cell_type": "markdown",
   "source": [
    "### Rozbicie daty na składowe"
   ],
   "metadata": {
    "collapsed": false
   },
   "id": "af49ecab4176ea4c"
  },
  {
   "cell_type": "code",
   "outputs": [],
   "source": [
    "def change_date(df):\n",
    "    data['date'] = pd.to_datetime(data['date'])\n",
    "    df['day'] = df['date'].dt.dayofweek\n",
    "    df['month'] = df['month'].astype(np.int64)\n",
    "    df['year'] = df['date'].dt.year\n",
    "    # df.drop(columns=['id', 'city', 'country', 'site_id', 'date'], inplace=True)\n",
    "    return df\n",
    "\n",
    "data = change_date(data)"
   ],
   "metadata": {
    "collapsed": false
   },
   "id": "96de3f55dc052fc9",
   "execution_count": null
  },
  {
   "cell_type": "markdown",
   "source": [
    "### Wykres przedstawiający jakość powietrza z krajach afrykańskich"
   ],
   "metadata": {
    "collapsed": false
   },
   "id": "cdbb93a09da5579d"
  },
  {
   "cell_type": "code",
   "outputs": [],
   "source": [
    "sns.lineplot(data=data, x='date', y='pm2_5', hue='country')\n",
    "plt.title('Jakość powietrza z podziałem na kraje')"
   ],
   "metadata": {
    "collapsed": false
   },
   "id": "c080d74ffd38ea41",
   "execution_count": 0
  },
  {
   "cell_type": "markdown",
   "source": [
    "### Wykres przedstawiający wartość pm2_5 w zarejestrowanych godzinach"
   ],
   "metadata": {
    "collapsed": false
   },
   "id": "c18ec25179e58a3d"
  },
  {
   "cell_type": "code",
   "outputs": [],
   "source": [
    "sns.barplot(data=data, x='hour', y='pm2_5', hue='country')\n",
    "plt.title('Jakość powietrza w poszczególnych godzinach z podziałem na kraje')"
   ],
   "metadata": {
    "collapsed": false
   },
   "id": "1cc187b6375c9eb4",
   "execution_count": 0
  },
  {
   "cell_type": "markdown",
   "source": [
    "### Wykres przedstawiający wartość pm2_5 z zależności od miesięcy i krajów"
   ],
   "metadata": {
    "collapsed": false
   },
   "id": "e4b3fd78e799e096"
  },
  {
   "cell_type": "code",
   "outputs": [],
   "source": [
    "sns.barplot(data=data, x='month', y='pm2_5', hue='country')\n",
    "plt.title('Jakość powietrza w poszczególnych miesiącach z podziałem na kraje')"
   ],
   "metadata": {
    "collapsed": false
   },
   "id": "36c6ec9520527975",
   "execution_count": 0
  },
  {
   "cell_type": "markdown",
   "source": [
    "### Korelacje poszczególnych grup kolumn"
   ],
   "metadata": {
    "collapsed": false
   },
   "id": "785f97dcd77bdb1c"
  },
  {
   "cell_type": "code",
   "outputs": [],
   "source": [
    "def correlation():\n",
    "    columns = data.columns.str.split('_', expand=True).levels[0].to_frame()\n",
    "    columns.drop(['year', 'month', 'day', 'hour', 'pm2'], inplace=True)\n",
    "    columns = columns[0].tolist()\n",
    "    for i, el in enumerate(columns):\n",
    "        fig, ax = plt.subplots(figsize=(10, 10))\n",
    "        selected_columns = [col for col in data.columns if col.startswith(el) or col == 'pm2_5']\n",
    "        sns.heatmap(data[selected_columns].corr(), annot=True, fmt='.2f', cmap='viridis', ax=ax)\n",
    "        plt.tight_layout()\n",
    "        plt.show()\n",
    "    \n",
    "correlation()"
   ],
   "metadata": {
    "collapsed": false
   },
   "id": "67d0ec8072327669",
   "execution_count": null
  },
  {
   "cell_type": "code",
   "outputs": [],
   "source": [
    "data"
   ],
   "metadata": {
    "collapsed": false
   },
   "id": "a722d17c79b16e8a",
   "execution_count": null
  },
  {
   "cell_type": "code",
   "outputs": [],
   "source": [
    "data.columns"
   ],
   "metadata": {
    "collapsed": false
   },
   "id": "c8af4081d60b50bf",
   "execution_count": null
  },
  {
   "cell_type": "code",
   "outputs": [],
   "source": [
    "data['sulphurdioxide_so2_column_number_density'].describe()"
   ],
   "metadata": {
    "collapsed": false
   },
   "id": "725ff6f471ab9dc2",
   "execution_count": null
  },
  {
   "cell_type": "code",
   "outputs": [],
   "source": [],
   "metadata": {
    "collapsed": false
   },
   "id": "55835690d3deea69",
   "execution_count": null
  }
 ],
 "metadata": {
  "kernelspec": {
   "display_name": "Python 3",
   "language": "python",
   "name": "python3"
  },
  "language_info": {
   "codemirror_mode": {
    "name": "ipython",
    "version": 2
   },
   "file_extension": ".py",
   "mimetype": "text/x-python",
   "name": "python",
   "nbconvert_exporter": "python",
   "pygments_lexer": "ipython2",
   "version": "2.7.6"
  }
 },
 "nbformat": 4,
 "nbformat_minor": 5
}
