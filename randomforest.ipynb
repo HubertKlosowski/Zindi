{
 "cells": [
  {
   "cell_type": "code",
   "execution_count": null,
   "id": "9ab6bace1efc6b6d",
   "metadata": {
    "collapsed": true
   },
   "outputs": [],
   "source": [
    "import pandas as pd\n",
    "import numpy as np\n",
    "import matplotlib.pyplot as plt\n",
    "import seaborn as sns"
   ]
  },
  {
   "metadata": {},
   "cell_type": "markdown",
   "source": "### Wczytanie danych",
   "id": "8f89fce36eec0a29"
  },
  {
   "metadata": {},
   "cell_type": "code",
   "outputs": [],
   "execution_count": null,
   "source": [
    "train = pd.read_csv('transform\\\\train.csv')\n",
    "test = pd.read_csv('transform\\\\test.csv')"
   ],
   "id": "bd7861e5feb6907b"
  },
  {
   "metadata": {},
   "cell_type": "markdown",
   "source": "### Podział na zbiór treningowy i walidacyjny",
   "id": "34f7b664a8cd51e0"
  },
  {
   "metadata": {},
   "cell_type": "code",
   "outputs": [],
   "execution_count": null,
   "source": [
    "from sklearn.model_selection import train_test_split\n",
    "\n",
    "X, y = train.drop(columns=['pm2_5'], axis=1), train['pm2_5']\n",
    "test_ids = test['id']\n",
    "X_train, X_test, y_train, y_test = train_test_split(X, y, test_size=0.3, random_state=4)\n",
    "X_train = pd.DataFrame(X_train, columns=X.columns)\n",
    "X_test = pd.DataFrame(X_test, columns=X.columns)"
   ],
   "id": "46849a7f809f0439"
  },
  {
   "metadata": {},
   "cell_type": "markdown",
   "source": "### Zapis predykcji",
   "id": "6e0d7eae48b82bad"
  },
  {
   "metadata": {},
   "cell_type": "code",
   "outputs": [],
   "execution_count": null,
   "source": [
    "import os\n",
    "\n",
    "\n",
    "def save_to_csv(y_pred, save_as):\n",
    "    if 'result' not in os.listdir(os.getcwd()):\n",
    "        os.mkdir('result')\n",
    "    final_df = pd.concat([test_ids, pd.DataFrame.from_dict({'pm2_5': y_pred})], axis=1)\n",
    "    final_df.to_csv(f'result\\\\{save_as}', index=False)"
   ],
   "id": "initial_id"
  },
  {
   "metadata": {},
   "cell_type": "code",
   "outputs": [],
   "execution_count": null,
   "source": "### <center>Optuna + RandomForestRegressor</center>",
   "id": "53667f1081177a4a"
  },
  {
   "metadata": {},
   "cell_type": "code",
   "outputs": [],
   "execution_count": null,
   "source": [
    "from sklearn.ensemble import RandomForestRegressor\n",
    "import optuna\n",
    "from sklearn.metrics import root_mean_squared_error\n",
    "\n",
    "\n",
    "def define_rf_model(trial):\n",
    "    params = {\n",
    "        'n_estimators': trial.suggest_int('n_estimators', 100, 700),\n",
    "        'max_depth': trial.suggest_int('max_depth', 4, 12),\n",
    "        'min_samples_split': trial.suggest_int('min_samples_split', 20, 70),\n",
    "        'min_samples_leaf': trial.suggest_int('min_samples_leaf', 50, 200),\n",
    "        'bootstrap': True,\n",
    "        'oob_score': True,\n",
    "        'n_jobs': -1,\n",
    "        'random_state': 4,\n",
    "        'ccp_alpha': trial.suggest_float('ccp_alpha', 1e-4, 1e-1, log=True),\n",
    "        'max_samples': trial.suggest_float('max_samples', 1e-1, 1, log=True)\n",
    "    }\n",
    "    return RandomForestRegressor(**params)\n",
    "\n",
    "def objective_rf(trial):\n",
    "    model = define_rf_model(trial)\n",
    "    model.fit(X_train, y_train)\n",
    "    return root_mean_squared_error(y_test, model.predict(X_test))"
   ],
   "id": "e8f4629b76ee4e16"
  },
  {
   "metadata": {},
   "cell_type": "code",
   "outputs": [],
   "execution_count": null,
   "source": [
    "study_rf = optuna.create_study(direction='minimize', study_name='AirQualityWithRandomForest',\n",
    "                               sampler=optuna.samplers.TPESampler())\n",
    "study_rf.optimize(objective_rf, n_trials=200)"
   ],
   "id": "a22d33687ded60e"
  },
  {
   "metadata": {},
   "cell_type": "code",
   "outputs": [],
   "execution_count": null,
   "source": "### Zdefiniowanie najlepszego RandomForestRegressor",
   "id": "5d91f2f7dae1c046"
  },
  {
   "metadata": {},
   "cell_type": "code",
   "outputs": [],
   "execution_count": null,
   "source": [
    "rf_model = define_rf_model(study_rf.best_trial)\n",
    "\n",
    "rf_model.fit(X_train, y_train)\n",
    "rf_params = ['n_estimators', 'max_depth', 'min_samples_split', 'min_samples_leaf', 'ccp_alpha', 'max_samples']\n",
    "rf_pred = rf_model.predict(X_test)\n",
    "root_mean_squared_error(y_test, rf_pred)"
   ],
   "id": "270fab543c54dd47"
  },
  {
   "metadata": {},
   "cell_type": "markdown",
   "source": "### Wykres przedstawiający każdy <i>trial</i> w procesie nauki",
   "id": "cd78e0e90fcbf311"
  },
  {
   "metadata": {},
   "cell_type": "code",
   "outputs": [],
   "execution_count": null,
   "source": "optuna.visualization.plot_optimization_history(study_rf)",
   "id": "66761c4e8d056b8f"
  },
  {
   "metadata": {},
   "cell_type": "markdown",
   "source": "### Wizualizacja przekroju parametrów",
   "id": "60adf4eadf3b9619"
  },
  {
   "metadata": {},
   "cell_type": "code",
   "outputs": [],
   "execution_count": null,
   "source": "optuna.visualization.plot_slice(study_rf, params=rf_params)",
   "id": "b9bb031fec78ca7c"
  },
  {
   "metadata": {},
   "cell_type": "markdown",
   "source": "### Wpływ poszczególnych parametrów na proces nauki modelu",
   "id": "69e169e4f349ceb"
  },
  {
   "metadata": {},
   "cell_type": "code",
   "outputs": [],
   "execution_count": null,
   "source": "optuna.visualization.plot_param_importances(study_rf)",
   "id": "8c919a7bb0d31200"
  },
  {
   "metadata": {},
   "cell_type": "markdown",
   "source": "### Najlepsze parametry",
   "id": "3a0e99b8b8bb48f"
  },
  {
   "metadata": {},
   "cell_type": "code",
   "outputs": [],
   "execution_count": null,
   "source": "study_rf.best_params",
   "id": "f4ee3eaa805706db"
  },
  {
   "metadata": {},
   "cell_type": "markdown",
   "source": "### Predykcje RandomForest",
   "id": "9042d2b4de3efd90"
  },
  {
   "metadata": {},
   "cell_type": "code",
   "outputs": [],
   "execution_count": null,
   "source": "save_to_csv(rf_model.predict(test), 'rf.csv')",
   "id": "3751650e0a766444"
  }
 ],
 "metadata": {
  "kernelspec": {
   "display_name": "Python 3",
   "language": "python",
   "name": "python3"
  },
  "language_info": {
   "codemirror_mode": {
    "name": "ipython",
    "version": 2
   },
   "file_extension": ".py",
   "mimetype": "text/x-python",
   "name": "python",
   "nbconvert_exporter": "python",
   "pygments_lexer": "ipython2",
   "version": "2.7.6"
  }
 },
 "nbformat": 4,
 "nbformat_minor": 5
}
