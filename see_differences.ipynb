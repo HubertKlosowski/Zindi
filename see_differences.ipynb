{
 "cells": [
  {
   "cell_type": "code",
   "id": "initial_id",
   "metadata": {
    "collapsed": true
   },
   "source": [
    "import pandas as pd\n",
    "import numpy as np\n",
    "import matplotlib.pyplot as plt\n",
    "import seaborn as sns\n",
    "import os"
   ],
   "outputs": [],
   "execution_count": null
  },
  {
   "metadata": {},
   "cell_type": "code",
   "source": [
    "train = pd.read_csv(os.path.join('data', 'train.csv'))\n",
    "test = pd.read_csv(os.path.join('data', 'test.csv'))\n",
    "\n",
    "train_target = train['pm2_5']\n",
    "train['date'] = pd.to_datetime(train['date'])\n",
    "test['date'] = pd.to_datetime(test['date'])"
   ],
   "id": "33f2347f37d6f28a",
   "outputs": [],
   "execution_count": null
  },
  {
   "metadata": {},
   "cell_type": "code",
   "source": "train['date'].describe()",
   "id": "6a9ea89ccecca52f",
   "outputs": [],
   "execution_count": null
  },
  {
   "metadata": {},
   "cell_type": "code",
   "source": "test['date'].describe()",
   "id": "15d6e156589f0dc6",
   "outputs": [],
   "execution_count": null
  },
  {
   "metadata": {},
   "cell_type": "code",
   "source": [
    "train.drop(columns=['id', 'city', 'country', 'site_id', 'site_latitude', 'site_longitude', 'hour', 'pm2_5'], inplace=True)\n",
    "test.drop(columns=['id', 'city', 'country', 'site_id', 'site_latitude', 'site_longitude', 'hour'], inplace=True)\n",
    "train.drop(columns=[column for column in train.columns if 'sensor_zenith' in column or 'sensor_azimuth' in column], inplace=True)\n",
    "test.drop(columns=[column for column in test.columns if 'sensor_zenith' in column or 'sensor_azimuth' in column], inplace=True)"
   ],
   "id": "a0ad2d488119f18c",
   "outputs": [],
   "execution_count": null
  },
  {
   "metadata": {},
   "cell_type": "code",
   "source": [
    "def drop_high_nans():\n",
    "    columns_nans = []\n",
    "    for i, el in enumerate(train.columns):\n",
    "        if train[el].isna().sum() / len(train) >= 0.9:\n",
    "            columns_nans.append(el)\n",
    "    return columns_nans\n",
    "\n",
    "\n",
    "high_nans = drop_high_nans()\n",
    "train, test = train.drop(columns=high_nans, axis=1), test.drop(columns=high_nans, axis=1)"
   ],
   "id": "265c089487a0cd3e",
   "outputs": [],
   "execution_count": null
  },
  {
   "metadata": {},
   "cell_type": "code",
   "source": "test.info()",
   "id": "b761e5825c8d4116",
   "outputs": [],
   "execution_count": null
  },
  {
   "metadata": {},
   "cell_type": "code",
   "source": "train.info()",
   "id": "c9ddc2347947f3f0",
   "outputs": [],
   "execution_count": null
  },
  {
   "metadata": {},
   "cell_type": "code",
   "source": "vertical_columns = [col for col in train.columns if 'number_density' in col]",
   "id": "3556db5658f93b13",
   "outputs": [],
   "execution_count": null
  },
  {
   "metadata": {},
   "cell_type": "code",
   "source": [
    "# fig, ax = plt.subplots(nrows=len(vertical_columns), ncols=2, figsize=(20, 45))\n",
    "# for i, column in enumerate(vertical_columns):\n",
    "#     sns.lineplot(data=train, x='date', y=column, ax=ax[i, 0])\n",
    "#     sns.lineplot(data=test, x='date', y=column, ax=ax[i, 1])\n",
    "#     ax[i, 0].set_title(f'train_{column}')\n",
    "#     ax[i, 1].set_title(f'test_{column}')"
   ],
   "id": "113bb756e668f9a6",
   "outputs": [],
   "execution_count": null
  },
  {
   "metadata": {},
   "cell_type": "markdown",
   "source": "### Która kolumna wyróżnia dane czy są z treningowego, czy z testowego?",
   "id": "5b7cbadef6129acb"
  },
  {
   "metadata": {},
   "cell_type": "code",
   "source": [
    "train['is_train'] = 1\n",
    "test['is_train'] = 0"
   ],
   "id": "30b3e9e348bce32d",
   "outputs": [],
   "execution_count": null
  },
  {
   "metadata": {},
   "cell_type": "code",
   "source": "whole = pd.concat([train, test], ignore_index=True).reset_index(drop=True)",
   "id": "836ba0926e17afee",
   "outputs": [],
   "execution_count": null
  },
  {
   "metadata": {},
   "cell_type": "code",
   "source": [
    "whole_dates = whole['date']\n",
    "whole.drop('date', axis=1, inplace=True)\n",
    "whole = whole.sample(frac=1).reset_index(drop=True)\n",
    "whole.info()"
   ],
   "id": "721a867a29911e7e",
   "outputs": [],
   "execution_count": null
  },
  {
   "metadata": {},
   "cell_type": "code",
   "source": [
    "from sklearn.model_selection import train_test_split\n",
    "\n",
    "\n",
    "X, y = whole.drop(columns=['is_train'], axis=1), whole['is_train']\n",
    "X_train, X_test, y_train, y_test = train_test_split(X, y, test_size=0.3, random_state=4)\n",
    "X_train = pd.DataFrame(X_train, columns=X.columns)\n",
    "X_test = pd.DataFrame(X_test, columns=X.columns)"
   ],
   "id": "69438267e3754acf",
   "outputs": [],
   "execution_count": null
  },
  {
   "metadata": {},
   "cell_type": "code",
   "source": [
    "import lightgbm as lgb\n",
    "import optuna\n",
    "from sklearn.model_selection import KFold, cross_val_score\n",
    "\n",
    "\n",
    "def define_model(trial):\n",
    "    params = {\n",
    "        'boosting_type': 'gbdt',\n",
    "        'objective': 'binary',\n",
    "        'max_bin': trial.suggest_int('max_bin', 10, 200),\n",
    "        'num_leaves': trial.suggest_int('num_leaves', 100, 400),\n",
    "        'max_depth': trial.suggest_int('max_depth', 5, 12),\n",
    "        'learning_rate': trial.suggest_float('learning_rate', 1e-4, 1e-2, log=True),\n",
    "        'n_estimators': trial.suggest_int('n_estimators', 200, 500),\n",
    "        'tree_learner': 'voting',\n",
    "        'bagging_fraction': trial.suggest_float('bagging_fraction', 0.6, 1.0, log=True),\n",
    "        'colsample_bytree': trial.suggest_float('colsample_bytree', 0.4, 0.8, log=True),\n",
    "        'min_data_in_leaf': trial.suggest_int('min_data_in_leaf', 50, 250),\n",
    "        'reg_lambda': trial.suggest_float('reg_lambda', 1e-2, 1e-1, log=True),\n",
    "        'bagging_freq': trial.suggest_int('bagging_freq', 1, 5),\n",
    "        'device': 'cpu',\n",
    "        'n_jobs': -1,\n",
    "        'random_state': 4,\n",
    "        'verbosity': -1,\n",
    "        'is_unbalance': True\n",
    "    }\n",
    "    return lgb.LGBMClassifier(**params)\n",
    "\n",
    "def objective(trial):\n",
    "    model = define_model(trial)\n",
    "    kf = KFold(n_splits=10, random_state=4, shuffle=True)\n",
    "    scores = cross_val_score(model, X, y, cv=kf, n_jobs=-1, scoring='accuracy')\n",
    "    return scores.mean()"
   ],
   "id": "9e7cb8c851c65b65",
   "outputs": [],
   "execution_count": null
  },
  {
   "metadata": {},
   "cell_type": "code",
   "source": [
    "study_lightgbm = optuna.create_study(direction='maximize', study_name='AirQualityWithLightGBM', sampler=optuna.samplers.TPESampler())\n",
    "study_lightgbm.optimize(objective, n_trials=100)\n",
    "\n",
    "lightgbm = define_model(study_lightgbm.best_trial)\n",
    "lightgbm.fit(X_train, y_train)"
   ],
   "id": "b485e693dad2e7fc",
   "outputs": [],
   "execution_count": null
  },
  {
   "metadata": {},
   "cell_type": "code",
   "source": [
    "from sklearn.metrics import classification_report\n",
    "\n",
    "\n",
    "print(classification_report(y_test, lightgbm.predict(X_test)))"
   ],
   "id": "e36116bd653ed93f",
   "outputs": [],
   "execution_count": null
  },
  {
   "metadata": {},
   "cell_type": "code",
   "source": "lgb.plot_importance(lightgbm, figsize=(20, 12), dpi=200)",
   "id": "c556902c8ab586f4",
   "outputs": [],
   "execution_count": null
  },
  {
   "metadata": {},
   "cell_type": "code",
   "source": "lgb.plot_tree(lightgbm, precision=2, figsize=(20, 12), show_info=['data_percentage'], dpi=200, orientation='vertical')",
   "id": "d289d836392c079a",
   "outputs": [],
   "execution_count": null
  },
  {
   "metadata": {},
   "cell_type": "code",
   "source": "train = pd.concat([train, train_target], axis=1)",
   "id": "9d393bde43d47f26",
   "outputs": [],
   "execution_count": null
  },
  {
   "metadata": {},
   "cell_type": "code",
   "source": [
    "whole = pd.concat([whole_dates, whole], axis=1)\n",
    "\n",
    "whole.info()"
   ],
   "id": "fe2bcb7d7e9bd000",
   "outputs": [],
   "execution_count": null
  },
  {
   "metadata": {},
   "cell_type": "code",
   "source": [
    "very_important = ['nitrogendioxide_tropopause_pressure', 'uvaerosolindex_sensor_altitude', 'ozone_o3_column_number_density_amf', 'ozone_o3_column_number_density']\n",
    "sns.lineplot(data=whole[['date', 'nitrogendioxide_tropopause_pressure', 'is_train']], x='date', y='nitrogendioxide_tropopause_pressure', hue='is_train')"
   ],
   "id": "a6a3f7609f8a8a3a",
   "outputs": [],
   "execution_count": null
  },
  {
   "metadata": {},
   "cell_type": "code",
   "source": "sns.lineplot(data=whole[['date', 'ozone_o3_column_number_density_amf', 'is_train']], x='date', y='ozone_o3_column_number_density_amf', hue='is_train')",
   "id": "21f646258c227127",
   "outputs": [],
   "execution_count": null
  },
  {
   "metadata": {},
   "cell_type": "code",
   "source": "sns.lineplot(data=whole[['date', 'ozone_o3_column_number_density', 'is_train']], x='date', y='ozone_o3_column_number_density', hue='is_train')",
   "id": "90be1d5bbce84fb9",
   "outputs": [],
   "execution_count": null
  },
  {
   "metadata": {},
   "cell_type": "code",
   "source": "sns.lineplot(data=whole[['date', 'uvaerosolindex_sensor_altitude', 'is_train']], x='date', y='uvaerosolindex_sensor_altitude', hue='is_train')",
   "id": "561a86dda94c898e",
   "outputs": [],
   "execution_count": null
  },
  {
   "metadata": {},
   "cell_type": "code",
   "source": "sns.histplot(data=whole[['nitrogendioxide_tropopause_pressure', 'is_train']], x='nitrogendioxide_tropopause_pressure', hue='is_train')",
   "id": "e3f2274372e8d5d0",
   "outputs": [],
   "execution_count": null
  },
  {
   "metadata": {},
   "cell_type": "code",
   "source": "sns.histplot(data=whole[['ozone_o3_column_number_density_amf', 'is_train']], x='ozone_o3_column_number_density_amf', hue='is_train')",
   "id": "807fdb133b8ac23e",
   "outputs": [],
   "execution_count": null
  },
  {
   "metadata": {},
   "cell_type": "code",
   "source": "sns.histplot(data=whole[['ozone_o3_column_number_density', 'is_train']], x='ozone_o3_column_number_density', hue='is_train')",
   "id": "cd6f3e2a456628d1",
   "outputs": [],
   "execution_count": null
  },
  {
   "metadata": {},
   "cell_type": "code",
   "source": "sns.histplot(data=whole[['uvaerosolindex_sensor_altitude', 'is_train']], x='uvaerosolindex_sensor_altitude', hue='is_train')",
   "id": "5b39cd27e9f892cd",
   "outputs": [],
   "execution_count": null
  },
  {
   "metadata": {},
   "cell_type": "code",
   "source": "",
   "id": "ff832a511f03c57c",
   "outputs": [],
   "execution_count": null
  },
  {
   "metadata": {},
   "cell_type": "code",
   "source": "pd.concat([test['uvaerosolindex_sensor_altitude'].describe(), train['uvaerosolindex_sensor_altitude'].describe()], axis=1)",
   "id": "e08e9b321464a5b7",
   "outputs": [],
   "execution_count": null
  },
  {
   "metadata": {},
   "cell_type": "code",
   "source": "pd.concat([test['nitrogendioxide_tropopause_pressure'].describe(), train['nitrogendioxide_tropopause_pressure'].describe()], axis=1)",
   "id": "ab3bb09833029b1a",
   "outputs": [],
   "execution_count": null
  },
  {
   "metadata": {},
   "cell_type": "code",
   "source": "limit = train.loc[(test['uvaerosolindex_sensor_altitude'].min() < train['uvaerosolindex_sensor_altitude']) & (train['uvaerosolindex_sensor_altitude'] > test['uvaerosolindex_sensor_altitude'].max()), :]",
   "id": "2a9e6a7bfd680dae",
   "outputs": [],
   "execution_count": null
  }
 ],
 "metadata": {
  "kernelspec": {
   "display_name": "Python 3",
   "language": "python",
   "name": "python3"
  },
  "language_info": {
   "codemirror_mode": {
    "name": "ipython",
    "version": 2
   },
   "file_extension": ".py",
   "mimetype": "text/x-python",
   "name": "python",
   "nbconvert_exporter": "python",
   "pygments_lexer": "ipython2",
   "version": "2.7.6"
  }
 },
 "nbformat": 4,
 "nbformat_minor": 5
}
