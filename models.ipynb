{
 "cells": [
  {
   "cell_type": "markdown",
   "source": [
    "## <center>Analiza poziomu PM2.5 w afrykańskich miastach</center>\n",
    "### Zespół:\n",
    "<ol>\n",
    "    <li style='font-size: 20px'>Hubert Kłosowski 242424</li>\n",
    "    <li style='font-size: 20px'>Krzysztof Kolanek 242425</li>\n",
    "    <li style='font-size: 20px'>Kamil Małecki 242464</li>\n",
    "</ol>"
   ],
   "metadata": {
    "collapsed": false
   },
   "id": "d2a096af4d2cacc3"
  },
  {
   "cell_type": "code",
   "source": [
    "import pandas as pd\n",
    "import numpy as np\n",
    "import matplotlib.pyplot as plt\n",
    "import seaborn as sns\n",
    "import os"
   ],
   "metadata": {
    "collapsed": false
   },
   "id": "f44b8667be4021ab",
   "outputs": [],
   "execution_count": null
  },
  {
   "metadata": {},
   "cell_type": "markdown",
   "source": "### Wczytanie danych",
   "id": "f60572cfda4cc750"
  },
  {
   "metadata": {},
   "cell_type": "code",
   "source": [
    "train = pd.read_csv(os.path.join('transform', 'train.csv'))\n",
    "test = pd.read_csv(os.path.join('transform', 'test.csv'))\n",
    "\n",
    "\n",
    "categorical = ['month', 'week', 'dayofweek']\n",
    "# train[categorical] = train[categorical].astype('category')\n",
    "# test[categorical] = test[categorical].astype('category')"
   ],
   "id": "f107fc3c0f7b0c0e",
   "outputs": [],
   "execution_count": null
  },
  {
   "metadata": {},
   "cell_type": "code",
   "source": "test.info()",
   "id": "b229b0e4b3ef64a9",
   "outputs": [],
   "execution_count": null
  },
  {
   "metadata": {},
   "cell_type": "markdown",
   "source": "### Podział na zbiór treningowy i walidacyjny",
   "id": "4bebe53896ea53ea"
  },
  {
   "metadata": {},
   "cell_type": "code",
   "source": [
    "from sklearn.model_selection import train_test_split\n",
    "\n",
    "\n",
    "X, y = train.drop(columns=['pm2_5'], axis=1), train['pm2_5']\n",
    "test_ids = test['id']\n",
    "X_train, X_test, y_train, y_test = train_test_split(X, y, test_size=0.3, random_state=4)\n",
    "X_train = pd.DataFrame(X_train, columns=X.columns)\n",
    "X_test = pd.DataFrame(X_test, columns=X.columns)"
   ],
   "id": "baa5ad84d7330865",
   "outputs": [],
   "execution_count": null
  },
  {
   "metadata": {},
   "cell_type": "markdown",
   "source": "### Zapis predykcji",
   "id": "9831b50f952a24eb"
  },
  {
   "metadata": {},
   "cell_type": "code",
   "source": [
    "def save_to_csv(y_pred, save_as):\n",
    "    if 'result' not in os.listdir(os.getcwd()):\n",
    "        os.mkdir('result')\n",
    "    final_df = pd.concat([test_ids, pd.DataFrame.from_dict({'pm2_5': y_pred})], axis=1)\n",
    "    final_df.to_csv(os.path.join('result', save_as), index=False)"
   ],
   "id": "e9d2d344d5d30f55",
   "outputs": [],
   "execution_count": null
  },
  {
   "metadata": {},
   "cell_type": "markdown",
   "source": "### <center>Optuna + lightGBM</center>",
   "id": "f1951123b5b3569"
  },
  {
   "metadata": {},
   "cell_type": "code",
   "source": [
    "import lightgbm as lgb\n",
    "import optuna\n",
    "from sklearn.metrics import root_mean_squared_error\n",
    "from sklearn.model_selection import KFold, cross_val_score, GroupKFold\n",
    "\n",
    "\n",
    "def define_lightgbm_model(trial):\n",
    "    params = {\n",
    "        'objective': 'root_mean_squared_error',\n",
    "        'boosting_type': 'gbdt',\n",
    "        'max_bin': trial.suggest_int('max_bin', 10, 200),\n",
    "        'num_leaves': trial.suggest_int('num_leaves', 50, 300),\n",
    "        'max_depth': trial.suggest_int('max_depth', 5, 12),\n",
    "        'learning_rate': trial.suggest_float('learning_rate', 1e-3, 9e-2, log=True),\n",
    "        'n_estimators': trial.suggest_int('n_estimators', 200, 700),\n",
    "        'tree_learner': 'voting',\n",
    "        'bagging_fraction': trial.suggest_float('bagging_fraction', 0.6, 1.0, log=True),\n",
    "        'colsample_bytree': trial.suggest_float('colsample_bytree', 0.4, 0.8, log=True),\n",
    "        'min_data_in_leaf': trial.suggest_int('min_data_in_leaf', 50, 250),\n",
    "        'reg_lambda': trial.suggest_float('reg_lambda', 1e-2, 1, log=True),\n",
    "        'bagging_freq': trial.suggest_int('bagging_freq', 1, 5),\n",
    "        'device': 'cpu',\n",
    "        'n_jobs': -1,\n",
    "        'random_state': 4,\n",
    "        'verbosity': -1,\n",
    "    }\n",
    "    return lgb.LGBMRegressor(**params)\n",
    "\n",
    "def objective_lightgbm(trial):\n",
    "    model = define_lightgbm_model(trial)\n",
    "    gkf = GroupKFold(n_splits=X['dayofweek'].nunique())\n",
    "    scores = cross_val_score(model, X, y, groups=X['dayofweek'], cv=gkf, n_jobs=-1, scoring='neg_root_mean_squared_error')\n",
    "    return scores.mean() * (-1)"
   ],
   "id": "e0c6cfa75b097d58",
   "outputs": [],
   "execution_count": null
  },
  {
   "metadata": {},
   "cell_type": "code",
   "source": [
    "study_lightgbm = optuna.create_study(direction='minimize', study_name='AirQualityWithLightGBM', sampler=optuna.samplers.TPESampler())\n",
    "study_lightgbm.optimize(objective_lightgbm, n_trials=200)"
   ],
   "id": "21e4f067899ca658",
   "outputs": [],
   "execution_count": null
  },
  {
   "metadata": {},
   "cell_type": "markdown",
   "source": "### Zdefiniowanie najlepszego lightgbm",
   "id": "54ba4a369bf8c70b"
  },
  {
   "metadata": {},
   "cell_type": "code",
   "source": [
    "lgb_model = define_lightgbm_model(study_lightgbm.best_trial)\n",
    "lgb_model.fit(X, y)\n",
    "lightgbm_params = ['max_bin', 'num_leaves', 'max_depth', 'learning_rate', 'n_estimators', 'bagging_fraction', 'colsample_bytree', 'min_data_in_leaf']\n",
    "lgb_pred = lgb_model.predict(X_test)\n",
    "root_mean_squared_error(y_test, lgb_pred)"
   ],
   "id": "31b5b306c4f03cf4",
   "outputs": [],
   "execution_count": null
  },
  {
   "metadata": {},
   "cell_type": "markdown",
   "source": "### Krzywa nauki dla lightGBM",
   "id": "5b781eff8d5c45f6"
  },
  {
   "metadata": {},
   "cell_type": "code",
   "source": [
    "from sklearn.model_selection import LearningCurveDisplay\n",
    "\n",
    "\n",
    "LearningCurveDisplay.from_estimator(lgb_model, X, y, cv=10, n_jobs=-1, random_state=4, scoring='neg_root_mean_squared_error')"
   ],
   "id": "528e272d6b0016a0",
   "outputs": [],
   "execution_count": null
  },
  {
   "metadata": {},
   "cell_type": "code",
   "source": [
    "# params_12 =  {'num_leaves': 25, \n",
    "#            'max_depth': 15, \n",
    "#            'learning_rate': 0.01982093884782807, \n",
    "#            'n_estimators': 1042, \n",
    "#            'tree_learner': 'voting', \n",
    "#            'subsample': 0.8572357579881347, \n",
    "#            'colsample_bytree': 0.8692866219741755, \n",
    "#            'min_data_in_leaf': 57,\n",
    "#            'bagging_freq': 1,\n",
    "#             'device': 'cpu',\n",
    "#             'n_jobs': -1,\n",
    "#             'random_state': 4,\n",
    "#             'verbosity': -1,\n",
    "#            'objective': 'root_mean_squared_error',\n",
    "#             'boosting_type': 'gbdt',\n",
    "#            }\n",
    "# best_lgbm = lgb.LGBMRegressor(**params_12)\n",
    "# best_lgbm.fit(X, y)\n",
    "# best_lgbm_pred = best_lgbm.predict(X_test)\n",
    "# root_mean_squared_error(y_test, best_lgbm_pred)\n",
    "# save_to_csv(best_lgbm.predict(test), 'check.csv')"
   ],
   "id": "d068d85105ef8d8",
   "outputs": [],
   "execution_count": null
  },
  {
   "metadata": {},
   "cell_type": "markdown",
   "source": "### Wykres przedstawiający każdy <i>trial</i> w procesie nauki",
   "id": "7dd9e64e1b394237"
  },
  {
   "metadata": {},
   "cell_type": "code",
   "source": "optuna.visualization.matplotlib.plot_optimization_history(study_lightgbm)",
   "id": "8f7608eef0ccc810",
   "outputs": [],
   "execution_count": null
  },
  {
   "metadata": {},
   "cell_type": "markdown",
   "source": "### Wizualizacja przekroju parametrów",
   "id": "f9d8406114339ed0"
  },
  {
   "metadata": {},
   "cell_type": "code",
   "source": "optuna.visualization.matplotlib.plot_slice(study_lightgbm, params=lightgbm_params)",
   "id": "8142b6308c8970fe",
   "outputs": [],
   "execution_count": null
  },
  {
   "metadata": {},
   "cell_type": "markdown",
   "source": "### Wpływ poszczególnych parametrów na proces nauki modelu",
   "id": "b7670a4a8c62b011"
  },
  {
   "metadata": {},
   "cell_type": "code",
   "source": "optuna.visualization.matplotlib.plot_param_importances(study_lightgbm)",
   "id": "6594be3641ad58f2",
   "outputs": [],
   "execution_count": null
  },
  {
   "metadata": {},
   "cell_type": "markdown",
   "source": "### Najlepsze parametry",
   "id": "a81fee2426d0cc68"
  },
  {
   "metadata": {},
   "cell_type": "code",
   "source": "study_lightgbm.best_params",
   "id": "d4341655723aa9d3",
   "outputs": [],
   "execution_count": null
  },
  {
   "metadata": {},
   "cell_type": "markdown",
   "source": "### Znaczenie poszczególnych kolumn",
   "id": "a7b518453e312064"
  },
  {
   "metadata": {},
   "cell_type": "code",
   "source": "lgb.plot_importance(lgb_model, figsize=(20, 12), dpi=200)",
   "id": "5a463c177c2dea71",
   "outputs": [],
   "execution_count": null
  },
  {
   "metadata": {},
   "cell_type": "markdown",
   "source": "### Drzewo decyzyjne dla lightGBM",
   "id": "3aa3b24cd053a042"
  },
  {
   "metadata": {},
   "cell_type": "code",
   "source": "lgb.plot_tree(lgb_model, precision=2, figsize=(20, 12), show_info=['data_percentage'], dpi=200, orientation='vertical')",
   "id": "bd6ab8ed5c9e4833",
   "outputs": [],
   "execution_count": null
  },
  {
   "metadata": {},
   "cell_type": "markdown",
   "source": "### Predykcje z lightGBM",
   "id": "b18a5c8404b9bf18"
  },
  {
   "metadata": {},
   "cell_type": "code",
   "source": [
    "lgb_final_pred = lgb_model.predict(test.drop(columns='id', axis=1))\n",
    "save_to_csv(lgb_final_pred, 'lightgbm.csv')"
   ],
   "id": "74ce5044d06598de",
   "outputs": [],
   "execution_count": null
  },
  {
   "metadata": {},
   "cell_type": "markdown",
   "source": "### <center>Optuna + CatBoost</center>",
   "id": "90efbae932d08aad"
  },
  {
   "metadata": {},
   "cell_type": "code",
   "source": [
    "from catboost import CatBoostRegressor\n",
    "\n",
    "\n",
    "def define_cat_model(trial):\n",
    "    params = {\n",
    "        'iterations': trial.suggest_int('iterations', 200, 700),\n",
    "        'learning_rate': trial.suggest_float('learning_rate', 1e-3, 5e-2, log=True),\n",
    "        'depth': trial.suggest_int('depth', 11, 20),\n",
    "        'grow_policy': 'Depthwise',\n",
    "        'l2_leaf_reg': trial.suggest_float('l2_leaf_reg', 1e-3, 5e-2, log=True),\n",
    "        'subsample': trial.suggest_float('subsample', 0.5, 0.9, log=True),\n",
    "        'min_data_in_leaf': trial.suggest_int('min_data_in_leaf', 50, 200),\n",
    "        'random_state': 4,\n",
    "    }\n",
    "    return CatBoostRegressor(**params)\n",
    "\n",
    "def objective_cat(trial):\n",
    "    model = define_cat_model(trial)\n",
    "    gkf = GroupKFold(n_splits=X['dayofweek'].nunique())\n",
    "    scores = cross_val_score(model, X, y, groups=X['dayofweek'], cv=gkf, n_jobs=-1, scoring='neg_root_mean_squared_error')\n",
    "    return scores.mean() * (-1)"
   ],
   "id": "ca4234a745c21357",
   "outputs": [],
   "execution_count": null
  },
  {
   "metadata": {},
   "cell_type": "code",
   "source": [
    "study_cat = optuna.create_study(direction='minimize', study_name='AirQualityWithCatBoost', sampler=optuna.samplers.TPESampler())\n",
    "study_cat.optimize(objective_cat, n_trials=100)"
   ],
   "id": "3678cdaea193ddb8",
   "outputs": [],
   "execution_count": null
  },
  {
   "metadata": {},
   "cell_type": "code",
   "source": [
    "cat_model = define_cat_model(study_cat.best_trial)\n",
    "cat_model.fit(X, y)\n",
    "lightgbm_params = ['iterations', 'learning_rate', 'depth', 'l2_leaf_reg', 'subsample', 'min_data_in_leaf']\n",
    "cat_pred = cat_model.predict(X_test)\n",
    "root_mean_squared_error(y_test, cat_pred)"
   ],
   "id": "db253ddf635c602b",
   "outputs": [],
   "execution_count": null
  },
  {
   "metadata": {},
   "cell_type": "code",
   "source": [
    "from sklearn.model_selection import LearningCurveDisplay\n",
    "\n",
    "\n",
    "LearningCurveDisplay.from_estimator(cat_model, X, y, cv=10, n_jobs=-1, random_state=4, scoring='neg_root_mean_squared_error')"
   ],
   "id": "eaad7922957586b6",
   "outputs": [],
   "execution_count": null
  },
  {
   "metadata": {},
   "cell_type": "code",
   "source": "study_cat.best_params",
   "id": "4b6548117ddb04be",
   "outputs": [],
   "execution_count": null
  },
  {
   "metadata": {},
   "cell_type": "code",
   "source": [
    "cat_final_pred = cat_model.predict(test.drop(columns='id', axis=1))\n",
    "save_to_csv(cat_final_pred, 'catboost.csv')"
   ],
   "id": "6c4cd1665f3c229d",
   "outputs": [],
   "execution_count": null
  },
  {
   "metadata": {},
   "cell_type": "markdown",
   "source": "### <center>Optuna + XGBoost</center>",
   "id": "6b133f35295134be"
  },
  {
   "metadata": {},
   "cell_type": "code",
   "source": [
    "import xgboost as xgb\n",
    "\n",
    "\n",
    "def define_xgb_model(trial):\n",
    "    params = {\n",
    "        'objective': 'reg:squarederror',\n",
    "        'n_estimators': trial.suggest_int('n_estimators', 750, 1100),\n",
    "        'subsample': trial.suggest_float('subsample', 0.1, 0.6, log=True),\n",
    "        'reg_lambda': trial.suggest_float('reg_lambda', 1e-4, 1, log=True),\n",
    "        'learning_rate': trial.suggest_float('learning_rate', 1e-3, 1, log=True),\n",
    "        'max_depth': trial.suggest_int('max_depth', 6, 15),\n",
    "        'colsample_bytree': trial.suggest_float('colsample_bytree', 0.1, 1, log=True),\n",
    "        'tree_method': 'hist',\n",
    "        'verbosity': 0,\n",
    "        # 'enable_categorical': True,\n",
    "        'device': 'cpu',\n",
    "        'n_jobs': -1,\n",
    "        'random_state': 4,\n",
    "    }\n",
    "    return xgb.XGBRegressor(**params)\n",
    "\n",
    "def objective_xgb(trial):\n",
    "    model = define_xgb_model(trial)\n",
    "    gkf = GroupKFold(n_splits=X['dayofweek'].nunique())\n",
    "    scores = cross_val_score(model, X, y, groups=X['dayofweek'], cv=gkf, n_jobs=-1, scoring='neg_root_mean_squared_error')\n",
    "    return scores.mean() * (-1)"
   ],
   "id": "1c600a7c761cd5d5",
   "outputs": [],
   "execution_count": null
  },
  {
   "metadata": {},
   "cell_type": "code",
   "source": [
    "study_xgb = optuna.create_study(direction='minimize', study_name='AirQualityWithXGBoost', sampler=optuna.samplers.TPESampler())\n",
    "study_xgb.optimize(objective_xgb, n_trials=100)"
   ],
   "id": "67783466ebd7e557",
   "outputs": [],
   "execution_count": null
  },
  {
   "metadata": {},
   "cell_type": "markdown",
   "source": "### Zdefiniowanie najlepszego XGBoost",
   "id": "e675005b106df480"
  },
  {
   "metadata": {},
   "cell_type": "code",
   "source": [
    "xgb_model = define_xgb_model(study_xgb.best_trial)\n",
    "\n",
    "xgb_model.fit(X, y)\n",
    "xgb_params = ['n_estimators', 'subsample', 'reg_lambda', 'learning_rate', 'max_depth', 'colsample_bytree']\n",
    "xgb_pred = xgb_model.predict(X_test)\n",
    "root_mean_squared_error(y_test, xgb_pred)"
   ],
   "id": "528b9f11ed9b9079",
   "outputs": [],
   "execution_count": null
  },
  {
   "metadata": {},
   "cell_type": "markdown",
   "source": "### Krzywa nauki dla XGBoost",
   "id": "320049518c8a7eff"
  },
  {
   "metadata": {},
   "cell_type": "code",
   "source": [
    "from sklearn.model_selection import LearningCurveDisplay\n",
    "\n",
    "\n",
    "LearningCurveDisplay.from_estimator(xgb_model, X, y, cv=5, n_jobs=-1, random_state=4, scoring='neg_root_mean_squared_error')"
   ],
   "id": "f50472f99612e67c",
   "outputs": [],
   "execution_count": null
  },
  {
   "metadata": {},
   "cell_type": "markdown",
   "source": "### Wykres przedstawiający każdy <i>trial</i> w procesie nauki",
   "id": "94aeea36b97d7075"
  },
  {
   "metadata": {},
   "cell_type": "code",
   "source": "optuna.visualization.matplotlib.plot_optimization_history(study_xgb)",
   "id": "874d08b1ec57ed14",
   "outputs": [],
   "execution_count": null
  },
  {
   "metadata": {},
   "cell_type": "markdown",
   "source": "### Wizualizacja przekroju parametrów",
   "id": "6cedc41b1e51d92"
  },
  {
   "metadata": {},
   "cell_type": "code",
   "source": "optuna.visualization.matplotlib.plot_slice(study_xgb, params=xgb_params)",
   "id": "9d180a1a7efb53f0",
   "outputs": [],
   "execution_count": null
  },
  {
   "metadata": {},
   "cell_type": "markdown",
   "source": "### Wpływ poszczególnych parametrów na proces nauki modelu",
   "id": "53e11de30ec3ea52"
  },
  {
   "metadata": {},
   "cell_type": "code",
   "source": "optuna.visualization.matplotlib.plot_param_importances(study_xgb)",
   "id": "b395fc81efef55f",
   "outputs": [],
   "execution_count": null
  },
  {
   "metadata": {},
   "cell_type": "markdown",
   "source": "### Najlepsze parametry",
   "id": "8466d3f103258c7b"
  },
  {
   "metadata": {},
   "cell_type": "code",
   "source": "study_xgb.best_params",
   "id": "a0e39eb9edeebe48",
   "outputs": [],
   "execution_count": null
  },
  {
   "metadata": {},
   "cell_type": "markdown",
   "source": "### Predykcje XGBoost",
   "id": "ce7ac8e153b30a57"
  },
  {
   "metadata": {},
   "cell_type": "code",
   "source": [
    "xgb_final_pred = xgb_model.predict(test.drop(columns='id', axis=1))\n",
    "save_to_csv(xgb_final_pred, 'xgb.csv')"
   ],
   "id": "b514ef9089280b10",
   "outputs": [],
   "execution_count": null
  },
  {
   "metadata": {},
   "cell_type": "markdown",
   "source": "### <center>Stacking</center>",
   "id": "716721f5dc6a4fc5"
  },
  {
   "metadata": {},
   "cell_type": "code",
   "source": [
    "from sklearn.ensemble import StackingRegressor\n",
    "from sklearn.linear_model import LinearRegression\n",
    "\n",
    "\n",
    "stack_model = StackingRegressor(\n",
    "    estimators=[('lgb', lgb_model), ('cat', cat_model), ('xgb', xgb_model)],\n",
    "    final_estimator=LinearRegression(),\n",
    "    cv=10,\n",
    "    n_jobs=-1,\n",
    "    passthrough=False\n",
    ").fit(X, y)"
   ],
   "id": "c5ba0a6fa82615a",
   "outputs": [],
   "execution_count": null
  },
  {
   "metadata": {},
   "cell_type": "markdown",
   "source": "### Stacking predykcja",
   "id": "cf87d1caf7e9c50c"
  },
  {
   "metadata": {},
   "cell_type": "code",
   "source": [
    "stack_pred = stack_model.predict(test.drop(columns=['id'], axis=1))\n",
    "save_to_csv(stack_pred, 'stack_xgb_cat_lgb.csv')"
   ],
   "id": "9f21846de9642c71",
   "outputs": [],
   "execution_count": null
  },
  {
   "metadata": {},
   "cell_type": "markdown",
   "source": "### <center>Voting</center>",
   "id": "44c6d9994970eeef"
  },
  {
   "metadata": {},
   "cell_type": "code",
   "source": [
    "from sklearn.ensemble import VotingRegressor\n",
    "\n",
    "\n",
    "voting_model = VotingRegressor(\n",
    "    estimators=[('lgb', lgb_model), ('cat', cat_model), ('xgb', xgb_model)],\n",
    "    n_jobs=-1\n",
    ").fit(X, y)"
   ],
   "id": "946d2e452c0234cf",
   "outputs": [],
   "execution_count": null
  },
  {
   "metadata": {},
   "cell_type": "markdown",
   "source": "### Voting predykcja",
   "id": "f1555fe61d4a5a99"
  },
  {
   "metadata": {},
   "cell_type": "code",
   "source": [
    "voting_pred = voting_model.predict(test.drop(columns=['id'], axis=1))\n",
    "save_to_csv(voting_pred, 'voting_xgb_cat_lgb.csv')"
   ],
   "id": "d9e910710f09aef6",
   "outputs": [],
   "execution_count": null
  },
  {
   "cell_type": "markdown",
   "source": [
    "### Dodatkowe informacje\n",
    "<ol>\n",
    "    <li>The 15km SO2 band is ingested only when solar_zenith_angle < 70.</li>\n",
    "    <li>Because of noise on the data, negative vertical column values are often observed in particular over clean regions or for low SO2 emissions. It is recommended not to filter these values except for outliers, i.e. for vertical columns lower than -0.001 mol/m^2.</li>\n",
    "    <li>The effective cloud fraction is the radiometric equivalent cloud fraction of a satellite pixel assuming a fixed cloud albedo, usually 0.8. By definition the effective cloud fraction times the assumed cloud albedo plus the cloud-free surface and atmosphere contributions yields a TOA reflectance that agrees with the observed TOA reflectance.</li>\n",
    "</ol>"
   ],
   "metadata": {
    "collapsed": false
   },
   "id": "d2128d77bca7e777"
  }
 ],
 "metadata": {
  "kernelspec": {
   "display_name": "Python 3",
   "language": "python",
   "name": "python3"
  },
  "language_info": {
   "codemirror_mode": {
    "name": "ipython",
    "version": 2
   },
   "file_extension": ".py",
   "mimetype": "text/x-python",
   "name": "python",
   "nbconvert_exporter": "python",
   "pygments_lexer": "ipython2",
   "version": "2.7.6"
  }
 },
 "nbformat": 4,
 "nbformat_minor": 5
}
